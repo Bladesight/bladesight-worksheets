{
 "cells": [
  {
   "cell_type": "markdown",
   "metadata": {},
   "source": [
    "![alt text for screen readers](https://intro-to-btt-using-python-assets.s3.amazonaws.com/bladesight_logo_horizontal_ORIGINAL.jpg).\n",
    "# Chapter 4: Identifying the blades"
   ]
  },
  {
   "cell_type": "markdown",
   "metadata": {},
   "source": [
    "## Dependencies"
   ]
  },
  {
   "cell_type": "code",
   "execution_count": null,
   "metadata": {},
   "outputs": [],
   "source": [
    "# Run this cell if you have not installed the `bladesight` package yet\n",
    "%pip install bladesight\n",
    "## NBNBNB! You may need to restart the kernel after installing the package! If you \n",
    "# installed it through the Kernel, you can skip this cell."
   ]
  },
  {
   "cell_type": "code",
   "execution_count": null,
   "metadata": {},
   "outputs": [],
   "source": [
    "# If plotly is not installed\n",
    "%pip install plotly\n",
    "## NBNBNB! You may need to restart the kernel after installing the package! If you \n",
    "# installed it through the Kernel, you can skip this cell."
   ]
  },
  {
   "cell_type": "code",
   "execution_count": null,
   "metadata": {},
   "outputs": [],
   "source": [
    "# If Numba is not installed\n",
    "%pip install numba\n",
    "## NBNBNB! You may need to restart the kernel after installing the package! If you \n",
    "# installed it through the Kernel, you can skip this cell."
   ]
  },
  {
   "cell_type": "markdown",
   "metadata": {},
   "source": [
    "## Imports"
   ]
  },
  {
   "cell_type": "code",
   "execution_count": null,
   "metadata": {},
   "outputs": [],
   "source": [
    "from bladesight import Datasets\n",
    "from bladesight.btt.aoa import transform_ToAs_to_AoAs\n",
    "from plotly.subplots import make_subplots\n",
    "import plotly.graph_objects as go\n",
    "from numba import njit\n",
    "import pandas as pd\n",
    "import numpy as np\n",
    "from typing import Tuple, List"
   ]
  },
  {
   "cell_type": "markdown",
   "metadata": {},
   "source": [
    "## AoA Histogram"
   ]
  },
  {
   "cell_type": "code",
   "execution_count": null,
   "metadata": {},
   "outputs": [],
   "source": [
    "dataset = Datasets['data/intro_to_btt/intro_to_btt_ch03']\n",
    "df_opr_zero_crossings = \\\n",
    "    dataset[f\"table/du_toit_2017_test_1_opr_zero_crossings\"]\n",
    "df_prox_1_toas = dataset[f\"table/du_toit_2017_test_1_prox_1_toas\"]\n",
    "\n",
    "df_prox_1 = transform_ToAs_to_AoAs(\n",
    "    df_opr_zero_crossings,\n",
    "    df_prox_1_toas\n",
    ")\n",
    "\n",
    "blade_arrival_count, histogram_bins = np.histogram(\n",
    "    df_prox_1[\"AoA\"],\n",
    "    bins=np.linspace(0, 2*np.pi, 50)\n",
    ")"
   ]
  },
  {
   "cell_type": "code",
   "execution_count": null,
   "metadata": {},
   "outputs": [],
   "source": [
    "bin_count, bin_edges = np.histogram(df_prox_1[\"AoA\"], bins=np.linspace(0, 2*np.pi, 50))\n",
    "fig = go.Figure()\n",
    "fig.add_trace(\n",
    "    go.Bar(\n",
    "        x=(histogram_bins[:-1] + histogram_bins[1:])/2 * 180/np.pi,\n",
    "        y=blade_arrival_count,\n",
    "        name=\"AoA histogram\"\n",
    "    )\n",
    ")\n",
    "# Set x range to between 0 and 2pi\n",
    "fig.update_xaxes(range=[0, 360])\n",
    "\n",
    "fig.update_layout(\n",
    "    title=\"AoA histogram\",\n",
    "    xaxis_title=\"AoA [deg]\",\n",
    "    yaxis_title=\"Count\"\n",
    ")\n"
   ]
  },
  {
   "cell_type": "code",
   "execution_count": null,
   "metadata": {},
   "outputs": [],
   "source": [
    "def calculate_Q(\n",
    "    arr_aoas : np.ndarray,\n",
    "    d_theta : float,\n",
    "    N : int\n",
    ") -> Tuple[float, np.ndarray]:\n",
    "    bin_edges = np.linspace(0 + d_theta, 2*np.pi + d_theta, N + 1)\n",
    "    Q = 0\n",
    "    for b in range(N):\n",
    "        left_edge = bin_edges[b]\n",
    "        right_edge = bin_edges[b + 1]\n",
    "        bin_mask = (arr_aoas > left_edge) & (arr_aoas <= right_edge)\n",
    "\n",
    "        bin_centre = (left_edge + right_edge)/2\n",
    "        Q += np.sum(\n",
    "            (\n",
    "                arr_aoas[bin_mask] \n",
    "                - bin_centre\n",
    "            )**2 \n",
    "        )\n",
    "    if np.sum(arr_aoas < bin_edges[0]) > 0:\n",
    "        return np.nan, bin_edges\n",
    "    if np.sum(arr_aoas > bin_edges[-1]) > 0:\n",
    "        return np.nan, bin_edges\n",
    "    return Q, bin_edges\n"
   ]
  },
  {
   "cell_type": "markdown",
   "metadata": {},
   "source": [
    "## Implementation example"
   ]
  },
  {
   "cell_type": "code",
   "execution_count": null,
   "metadata": {},
   "outputs": [],
   "source": [
    "B = 5\n",
    "d_thetas = np.linspace(-np.pi/B, np.pi/B, 200) \n",
    "arr_aoas = df_prox_1[\"AoA\"].to_numpy()\n",
    "Qs = [] \n",
    "optimal_Q, optimal_bin_edges, optimal_d_theta = np.inf, None, None\n",
    "for d_theta in d_thetas:\n",
    "    Q, bin_edges = calculate_Q(arr_aoas, d_theta, B)\n",
    "    if Q < optimal_Q:\n",
    "        optimal_Q = Q*1\n",
    "        optimal_bin_edges = bin_edges\n",
    "        optimal_d_theta = d_theta*1\n",
    "    Qs.append(Q)\n"
   ]
  },
  {
   "cell_type": "code",
   "execution_count": null,
   "metadata": {},
   "outputs": [],
   "source": [
    "fig = go.Figure()\n",
    "fig.add_trace(\n",
    "    go.Scatter(\n",
    "        x=d_thetas * 180/np.pi,\n",
    "        y=Qs,\n",
    "        name=\"Q values\"\n",
    "    )\n",
    ")\n",
    "fig.add_trace(\n",
    "    go.Scatter(\n",
    "        x=[optimal_d_theta * 180/np.pi],\n",
    "        y=[optimal_Q],\n",
    "        name=\"Optimal d_theta value= {:.2f}°\".format(optimal_d_theta*180/np.pi),\n",
    "        mode=\"markers\",\n",
    "        marker={\n",
    "            \"size\": 10\n",
    "        }\n",
    "    )\n",
    ")\n",
    "\n",
    "fig.update_layout(\n",
    "    title=\"Q values for different d_theta values\",\n",
    "    xaxis_title=\"d_theta [deg]\",\n",
    "    yaxis_title=\"Q\"\n",
    ")\n",
    "fig.show()\n"
   ]
  },
  {
   "cell_type": "markdown",
   "metadata": {},
   "source": [
    "## Grouping the blades\n"
   ]
  },
  {
   "cell_type": "code",
   "execution_count": null,
   "metadata": {},
   "outputs": [],
   "source": [
    "blade_dfs = []\n",
    "for b in range(B):\n",
    "    ix_bin = (\n",
    "        (df_prox_1[\"AoA\"] > optimal_bin_edges[b])\n",
    "        & (df_prox_1[\"AoA\"] <= optimal_bin_edges[b + 1])\n",
    "    )\n",
    "    blade_dfs.append(\n",
    "        df_prox_1.loc[ix_bin]\n",
    "    )\n"
   ]
  },
  {
   "cell_type": "code",
   "execution_count": null,
   "metadata": {},
   "outputs": [],
   "source": [
    "for b in range(B):\n",
    "    print(f\"Blade {b} mean: {blade_dfs[b]['AoA'].mean()}, std: {blade_dfs[b]['AoA'].std()}\")"
   ]
  },
  {
   "cell_type": "markdown",
   "metadata": {},
   "source": [
    "## Wrapping blades"
   ]
  },
  {
   "cell_type": "code",
   "execution_count": null,
   "metadata": {},
   "outputs": [],
   "source": [
    "df_prox_1_shifted = df_prox_1.copy(deep=True)\n",
    "df_prox_1_shifted['AoA'] = df_prox_1_shifted['AoA'] - 0.280844143512115\n",
    "df_prox_1_shifted['AoA'] = df_prox_1_shifted['AoA'] % (2*np.pi)\n",
    "\n",
    "B = 5\n",
    "d_thetas = np.linspace(-np.pi/B, np.pi/B, 200)\n",
    "arr_aoas = df_prox_1_shifted[\"AoA\"].to_numpy()\n",
    "Qs = []\n",
    "optimal_Q, optimal_bin_edges, optimal_d_theta = np.inf, None, None\n",
    "for d_theta in d_thetas:\n",
    "    Q, bin_edges = calculate_Q(arr_aoas, d_theta, B)\n",
    "    if Q < optimal_Q:\n",
    "        optimal_Q = Q*1\n",
    "        optimal_bin_edges = bin_edges\n",
    "        optimal_d_theta = d_theta*1\n",
    "    Qs.append(Q)\n"
   ]
  },
  {
   "cell_type": "code",
   "execution_count": null,
   "metadata": {},
   "outputs": [],
   "source": [
    "print(optimal_Q)\n",
    "print(optimal_bin_edges)\n"
   ]
  },
  {
   "cell_type": "markdown",
   "metadata": {},
   "source": [
    "## Coding exercises"
   ]
  },
  {
   "cell_type": "code",
   "execution_count": null,
   "metadata": {},
   "outputs": [],
   "source": [
    "# Your turn 👇\n",
    "def calculate_Q(\n",
    "    arr_aoas : np.ndarray,\n",
    "    d_theta : float,\n",
    "    N : int\n",
    ") -> Tuple[float, np.ndarray]:\n",
    "    # Please complete me\n",
    "    ..."
   ]
  },
  {
   "cell_type": "code",
   "execution_count": null,
   "metadata": {},
   "outputs": [],
   "source": [
    "# Your turn 👇\n",
    "def transform_prox_AoAs_to_blade_AoAs(\n",
    "    df_prox : pd.DataFrame,\n",
    "    B : int,\n",
    ") -> List[pd.DataFrame]:\n",
    "    # Please complete me\n",
    "    ..."
   ]
  }
 ],
 "metadata": {
  "kernelspec": {
   "display_name": "bladesight-worksheets-fcjAY1g1-py3.11",
   "language": "python",
   "name": "python3"
  },
  "language_info": {
   "codemirror_mode": {
    "name": "ipython",
    "version": 3
   },
   "file_extension": ".py",
   "mimetype": "text/x-python",
   "name": "python",
   "nbconvert_exporter": "python",
   "pygments_lexer": "ipython3",
   "version": "3.11.0"
  },
  "orig_nbformat": 4
 },
 "nbformat": 4,
 "nbformat_minor": 2
}
