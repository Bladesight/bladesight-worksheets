{
 "cells": [
  {
   "cell_type": "markdown",
   "metadata": {},
   "source": [
    "![alt text for screen readers](https://intro-to-btt-using-python-assets.s3.amazonaws.com/bladesight_logo_horizontal_ORIGINAL.jpg).\n",
    "# Chapter 4: Allocating AoAs to blades"
   ]
  },
  {
   "cell_type": "markdown",
   "metadata": {},
   "source": [
    "## Dependencies"
   ]
  },
  {
   "cell_type": "code",
   "execution_count": null,
   "metadata": {},
   "outputs": [],
   "source": [
    "# Run this cell if you have not installed the `bladesight` package yet\n",
    "%pip install bladesight\n",
    "## NBNBNB! You may need to restart the kernel after installing the package! If you \n",
    "# installed it through the Kernel, you can skip this cell."
   ]
  },
  {
   "cell_type": "code",
   "execution_count": null,
   "metadata": {},
   "outputs": [],
   "source": [
    "# If plotly is not installed\n",
    "%pip install plotly\n",
    "## NBNBNB! You may need to restart the kernel after installing the package! If you \n",
    "# installed it through the Kernel, you can skip this cell."
   ]
  },
  {
   "cell_type": "markdown",
   "metadata": {},
   "source": [
    "## Imports"
   ]
  },
  {
   "cell_type": "code",
   "execution_count": null,
   "metadata": {},
   "outputs": [],
   "source": [
    "from bladesight import Datasets\n",
    "from bladesight.btt.aoa import transform_ToAs_to_AoAs\n",
    "from plotly.subplots import make_subplots\n",
    "import plotly.graph_objects as go\n",
    "from numba import njit\n",
    "import pandas as pd\n",
    "import numpy as np\n",
    "from typing import Tuple, List"
   ]
  },
  {
   "cell_type": "markdown",
   "metadata": {},
   "source": [
    "## Generated AoAs"
   ]
  },
  {
   "cell_type": "code",
   "execution_count": null,
   "metadata": {},
   "outputs": [],
   "source": [
    "delta = -20\n",
    "blade_means = np.deg2rad([72, 144+delta, 216+delta, 288+delta, 360+delta])\n",
    "aoa_values = []\n",
    "BLADE_COUNT = 5\n",
    "# Set random seed for reproducibility\n",
    "np.random.seed(0)\n",
    "for n in range(50):\n",
    "    r = 0.5 + 0.5/50 * n\n",
    "    for b in range(BLADE_COUNT):\n",
    "        aoa_current = blade_means[b] + np.random.uniform(-np.pi*0.07, np.pi*0.07)\n",
    "        # Reject values with probability < 0.05\n",
    "        if np.random.rand() > 0.05:\n",
    "            aoa_values.append({\n",
    "                \"n\" : n,\n",
    "                \"aoa\" : aoa_current,\n",
    "                \"plot_r\" : r,\n",
    "            })\n",
    "df_aoas = pd.DataFrame(aoa_values)"
   ]
  },
  {
   "cell_type": "markdown",
   "metadata": {},
   "source": [
    "## Unallocated AoAs"
   ]
  },
  {
   "cell_type": "code",
   "execution_count": null,
   "metadata": {},
   "outputs": [],
   "source": [
    "fig = go.Figure()\n",
    "\n",
    "fig.add_trace(go.Scatterpolar(\n",
    "    r=df_aoas[\"plot_r\"],\n",
    "    theta=df_aoas[\"aoa\"]*180/np.pi,\n",
    "    mode='markers',\n",
    "    name='Unallocated AoAs'\n",
    "))\n",
    "fig.update_layout(\n",
    "    polar=dict(\n",
    "        radialaxis=dict(\n",
    "            visible=False,\n",
    "            range=[0, 1]\n",
    "        )),\n",
    "    showlegend=True\n",
    ")\n",
    "fig.update_polars(\n",
    "    angularaxis=dict(direction=\"clockwise\")\n",
    ")"
   ]
  },
  {
   "cell_type": "markdown",
   "metadata": {},
   "source": [
    "## Sequential approach"
   ]
  },
  {
   "cell_type": "code",
   "execution_count": null,
   "metadata": {},
   "outputs": [],
   "source": [
    "df_aoa_sequential = df_aoas.copy(deep=True)\n",
    "df_aoa_sequential['blade'] = None\n",
    "df_aoa_sequential.loc[::5, 'blade'] = 1\n",
    "df_aoa_sequential.loc[1::5, 'blade'] = 2\n",
    "df_aoa_sequential.loc[2::5, 'blade'] = 3\n",
    "df_aoa_sequential.loc[3::5, 'blade'] = 4\n",
    "df_aoa_sequential.loc[4::5, 'blade'] = 5"
   ]
  },
  {
   "cell_type": "code",
   "execution_count": null,
   "metadata": {},
   "outputs": [],
   "source": [
    "fig = go.Figure()\n",
    "markers = [\"circle\", \"square\", \"diamond\", \"cross\", \"x\"]\n",
    "for b in range(BLADE_COUNT):\n",
    "    df_blade = df_aoa_sequential[df_aoa_sequential[\"blade\"] == (b+1)]\n",
    "    fig.add_trace(go.Scatterpolar(\n",
    "        r=df_blade[\"plot_r\"],\n",
    "        theta=df_blade[\"aoa\"]*180/np.pi,\n",
    "        mode='markers',\n",
    "        name=f'Blade {b+1}',\n",
    "        marker_symbol=markers[b]\n",
    "    ))\n",
    "\n",
    "fig.update_layout(\n",
    "    polar=dict(\n",
    "        radialaxis=dict(\n",
    "            visible=False,\n",
    "            range=[0, 1]\n",
    "        )),\n",
    "    showlegend=True\n",
    ")\n",
    "fig.update_polars(\n",
    "    angularaxis=dict(direction=\"clockwise\")\n",
    ")\n"
   ]
  },
  {
   "cell_type": "markdown",
   "metadata": {},
   "source": [
    "## Binning approach"
   ]
  },
  {
   "cell_type": "code",
   "execution_count": null,
   "metadata": {},
   "outputs": [],
   "source": [
    "df_aoa_binned = df_aoas.copy(deep=True)\n",
    "df_aoa_binned['blade'] = None\n",
    "bin_edges = [0, 72, 144, 216, 288]\n",
    "bin_edges_rad = np.deg2rad(bin_edges)\n",
    "for b, bin_left_edge in enumerate(bin_edges_rad):\n",
    "    bin_right_edge = bin_left_edge + 2*np.pi/5\n",
    "    ix_in_bin = (\n",
    "        (df_aoa_binned['aoa'] >= bin_left_edge) \n",
    "        & (df_aoa_binned['aoa'] < bin_right_edge)\n",
    "    )\n",
    "    df_aoa_binned.loc[ix_in_bin, 'blade'] = b + 1"
   ]
  },
  {
   "cell_type": "code",
   "execution_count": null,
   "metadata": {},
   "outputs": [],
   "source": [
    "fig = go.Figure()\n",
    "markers = [\"circle\", \"square\", \"diamond\", \"cross\", \"x\"]\n",
    "for b in range(BLADE_COUNT):\n",
    "    df_blade = df_aoa_binned[df_aoa_binned[\"blade\"] == (b+1)]\n",
    "    fig.add_trace(go.Scatterpolar(\n",
    "        r=df_blade[\"plot_r\"],\n",
    "        theta=df_blade[\"aoa\"]*180/np.pi,\n",
    "        mode='markers',\n",
    "        name=f'Blade {b+1}',\n",
    "        marker_symbol=markers[b]\n",
    "    ))\n",
    "# Add the bin edges as black dashed lines\n",
    "for b in range(BLADE_COUNT):\n",
    "    if b > 0:\n",
    "        fig.add_trace(go.Scatterpolar(\n",
    "            r=[0, 1],\n",
    "            theta=[bin_edges[b]]*2,\n",
    "            mode='lines',\n",
    "            line=dict(width=2, dash='dash', color='black'),\n",
    "            showlegend=False\n",
    "        ))\n",
    "    else:\n",
    "        fig.add_trace(go.Scatterpolar(\n",
    "            r=[0, 1],\n",
    "            theta=[bin_edges[b]]*2,\n",
    "            mode='lines',\n",
    "            line=dict(width=2, dash='dash', color='black'),\n",
    "            name='Bin edges'\n",
    "        ))\n",
    "\n",
    "fig.update_layout(\n",
    "    polar=dict(\n",
    "        radialaxis=dict(\n",
    "            visible=False,\n",
    "            range=[0, 1]\n",
    "        )),\n",
    "    showlegend=True\n",
    ")\n",
    "fig.update_polars(\n",
    "    angularaxis=dict(direction=\"clockwise\")\n",
    ")\n"
   ]
  },
  {
   "cell_type": "markdown",
   "metadata": {},
   "source": [
    "## Rotated binning approach"
   ]
  },
  {
   "cell_type": "code",
   "execution_count": null,
   "metadata": {},
   "outputs": [],
   "source": [
    "df_aoa_rotated_binned = df_aoas.copy(deep=True)\n",
    "df_aoa_rotated_binned['blade'] = None\n",
    "bin_edges_new = [-36, 36, 108, 180, 252]\n",
    "bin_edges_new_rad = np.deg2rad(bin_edges_new)\n",
    "for b, bin_left_edge in enumerate(bin_edges_new_rad):\n",
    "    bin_right_edge = bin_left_edge + 2*np.pi/5\n",
    "    ix_in_bin = (\n",
    "        (\n",
    "                (df_aoa_rotated_binned['aoa'] >= bin_left_edge) \n",
    "                & (df_aoa_rotated_binned['aoa'] < bin_right_edge)\n",
    "        )\n",
    "        | (\n",
    "                ((df_aoa_rotated_binned['aoa'] - 2*np.pi) >= bin_left_edge) \n",
    "                & ((df_aoa_rotated_binned['aoa'] - 2*np.pi) < bin_right_edge)\n",
    "        )\n",
    "    )\n",
    "    df_aoa_rotated_binned.loc[ix_in_bin, 'blade'] = b + 1"
   ]
  },
  {
   "cell_type": "code",
   "execution_count": null,
   "metadata": {},
   "outputs": [],
   "source": [
    "fig = go.Figure()\n",
    "markers = [\"circle\", \"square\", \"diamond\", \"cross\", \"x\"]\n",
    "for b in range(BLADE_COUNT):\n",
    "    df_blade = df_aoa_rotated_binned[df_aoa_rotated_binned[\"blade\"] == (b + 1)]\n",
    "    fig.add_trace(go.Scatterpolar(\n",
    "        r=df_blade[\"plot_r\"],\n",
    "        theta=df_blade[\"aoa\"]*180/np.pi,\n",
    "        mode='markers',\n",
    "        name=f'Blade {b+1}',\n",
    "        marker_symbol=markers[b]\n",
    "    ))\n",
    "# Add the bin edges as black dashed lines\n",
    "for b in range(BLADE_COUNT):\n",
    "    if b > 0:\n",
    "        #fig.add_trace(go.Scatterpolar(\n",
    "        #    r=[0, 1],\n",
    "        #    theta=[bin_edges[b]]*2,\n",
    "        #    mode='lines',\n",
    "        #    line=dict(width=2, dash='dash', color='black'),\n",
    "        #    showlegend=False\n",
    "        #))\n",
    "        fig.add_trace(go.Scatterpolar(\n",
    "            r=[0, 1],\n",
    "            theta=[bin_edges_new[b]]*2,\n",
    "            mode='lines',\n",
    "            line=dict(\n",
    "                width=2, \n",
    "                dash= 'dot',\n",
    "                color='green'\n",
    "            ),\n",
    "            showlegend=False\n",
    "        ))\n",
    "    else:\n",
    "        #fig.add_trace(go.Scatterpolar(\n",
    "        #    r=[0, 1],\n",
    "        #    theta=[bin_edges[b]]*2,\n",
    "        #    mode='lines',\n",
    "        #    line=dict(width=2, dash='dash', color='black'),\n",
    "        #    name='Old bin edges'\n",
    "        #))\n",
    "        fig.add_trace(go.Scatterpolar(\n",
    "            r=[0, 1],\n",
    "            theta=[bin_edges_new[b]]*2,\n",
    "            mode='lines',\n",
    "            line=dict(\n",
    "                width=2, \n",
    "                dash= 'dot',\n",
    "                color='green'\n",
    "            ),\n",
    "            name='Rotated bin edges'\n",
    "        ))\n",
    "\n",
    "fig.update_layout(\n",
    "    polar=dict(\n",
    "        radialaxis=dict(\n",
    "            visible=False,\n",
    "            range=[0, 1]\n",
    "        )),\n",
    "    showlegend=True\n",
    ")\n",
    "fig.update_polars(\n",
    "    angularaxis=dict(direction=\"clockwise\")\n",
    ")\n"
   ]
  },
  {
   "cell_type": "markdown",
   "metadata": {},
   "source": [
    "## Load the data"
   ]
  },
  {
   "cell_type": "code",
   "execution_count": null,
   "metadata": {},
   "outputs": [],
   "source": [
    "dataset = Datasets['data/intro_to_btt/intro_to_btt_ch03']\n",
    "df_opr_zero_crossings = dataset[f\"table/du_toit_2017_test_1_opr_zero_crossings\"]\n",
    "df_prox_toas = dataset[f\"table/du_toit_2017_test_1_prox_1_toas\"]\n",
    "df_prox_1 = transform_ToAs_to_AoAs(df_opr_zero_crossings, df_prox_toas)"
   ]
  },
  {
   "cell_type": "code",
   "execution_count": null,
   "metadata": {},
   "outputs": [],
   "source": [
    "def calculate_Q(\n",
    "    arr_aoas : np.ndarray,\n",
    "    d_theta : float,\n",
    "    N : int\n",
    ") -> Tuple[float, np.ndarray]:\n",
    "    bin_edges = np.linspace(0 + d_theta, 2*np.pi + d_theta, N + 1)\n",
    "    Q = 0\n",
    "    for b in range(N):\n",
    "        left_edge = bin_edges[b]\n",
    "        right_edge = bin_edges[b + 1]\n",
    "        bin_mask = (arr_aoas > left_edge) & (arr_aoas <= right_edge)\n",
    "\n",
    "        bin_centre = (left_edge + right_edge)/2\n",
    "        Q += np.sum(\n",
    "            (\n",
    "                arr_aoas[bin_mask] \n",
    "                - bin_centre\n",
    "            )**2 \n",
    "        )\n",
    "    if np.sum(arr_aoas < bin_edges[0]) > 0:\n",
    "        return np.nan, bin_edges\n",
    "    if np.sum(arr_aoas > bin_edges[-1]) > 0:\n",
    "        return np.nan, bin_edges\n",
    "    return Q, bin_edges\n"
   ]
  },
  {
   "cell_type": "markdown",
   "metadata": {},
   "source": [
    "## Implementation example"
   ]
  },
  {
   "cell_type": "code",
   "execution_count": null,
   "metadata": {},
   "outputs": [],
   "source": [
    "B = 5\n",
    "d_thetas = np.linspace(-np.pi/B, np.pi/B, 200) \n",
    "arr_aoas = df_prox_1[\"AoA\"].to_numpy()\n",
    "Qs = [] \n",
    "optimal_Q, optimal_bin_edges, optimal_d_theta = np.inf, None, None\n",
    "for d_theta in d_thetas:\n",
    "    Q, bin_edges = calculate_Q(arr_aoas, d_theta, B)\n",
    "    if Q < optimal_Q:\n",
    "        optimal_Q = Q*1\n",
    "        optimal_bin_edges = bin_edges\n",
    "        optimal_d_theta = d_theta*1\n",
    "    Qs.append(Q)\n"
   ]
  },
  {
   "cell_type": "code",
   "execution_count": null,
   "metadata": {},
   "outputs": [],
   "source": [
    "fig = go.Figure()\n",
    "fig.add_trace(\n",
    "    go.Scatter(\n",
    "        x=d_thetas * 180/np.pi,\n",
    "        y=Qs,\n",
    "        name=\"Q values\"\n",
    "    )\n",
    ")\n",
    "fig.add_trace(\n",
    "    go.Scatter(\n",
    "        x=[optimal_d_theta * 180/np.pi],\n",
    "        y=[optimal_Q],\n",
    "        name=\"Optimal d_theta value= {:.2f}°\".format(optimal_d_theta*180/np.pi),\n",
    "        mode=\"markers\",\n",
    "        marker={\n",
    "            \"size\": 10\n",
    "        }\n",
    "    )\n",
    ")\n",
    "\n",
    "fig.update_layout(\n",
    "    title=\"Q values for different d_theta values\",\n",
    "    xaxis_title=\"d_theta [deg]\",\n",
    "    yaxis_title=\"Q\"\n",
    ")\n",
    "fig.show()\n"
   ]
  },
  {
   "cell_type": "markdown",
   "metadata": {},
   "source": [
    "## Blade DataFrames\n"
   ]
  },
  {
   "cell_type": "code",
   "execution_count": null,
   "metadata": {},
   "outputs": [],
   "source": [
    "blade_dfs = []\n",
    "for b in range(B):\n",
    "    ix_bin = (\n",
    "        (df_prox_1[\"AoA\"] > optimal_bin_edges[b])\n",
    "        & (df_prox_1[\"AoA\"] <= optimal_bin_edges[b + 1])\n",
    "    )\n",
    "    blade_dfs.append(\n",
    "        df_prox_1.loc[ix_bin]\n",
    "    )\n"
   ]
  },
  {
   "cell_type": "code",
   "execution_count": null,
   "metadata": {},
   "outputs": [],
   "source": [
    "for b in range(B):\n",
    "    print(f\"Blade {b} mean: {blade_dfs[b]['AoA'].mean()}, std: {blade_dfs[b]['AoA'].std()}\")"
   ]
  },
  {
   "cell_type": "markdown",
   "metadata": {},
   "source": [
    "## Wrapping blades"
   ]
  },
  {
   "cell_type": "code",
   "execution_count": null,
   "metadata": {},
   "outputs": [],
   "source": [
    "df_prox_1_shifted = df_prox_1.copy(deep=True)\n",
    "df_prox_1_shifted['AoA'] = df_prox_1_shifted['AoA'] - 0.280844143512115\n",
    "df_prox_1_shifted['AoA'] = df_prox_1_shifted['AoA'] % (2*np.pi)\n",
    "\n",
    "B = 5\n",
    "d_thetas = np.linspace(-np.pi/B, np.pi/B, 200)\n",
    "arr_aoas = df_prox_1_shifted[\"AoA\"].to_numpy()\n",
    "Qs = []\n",
    "optimal_Q, optimal_bin_edges, optimal_d_theta = np.inf, None, None\n",
    "for d_theta in d_thetas:\n",
    "    Q, bin_edges = calculate_Q(arr_aoas, d_theta, B)\n",
    "    if Q < optimal_Q:\n",
    "        optimal_Q = Q*1\n",
    "        optimal_bin_edges = bin_edges\n",
    "        optimal_d_theta = d_theta*1\n",
    "    Qs.append(Q)\n"
   ]
  },
  {
   "cell_type": "code",
   "execution_count": null,
   "metadata": {},
   "outputs": [],
   "source": [
    "print(optimal_Q)\n",
    "print(optimal_bin_edges)\n"
   ]
  },
  {
   "cell_type": "markdown",
   "metadata": {},
   "source": [
    "## Coding exercises"
   ]
  },
  {
   "cell_type": "code",
   "execution_count": null,
   "metadata": {},
   "outputs": [],
   "source": [
    "# Your turn 👇\n",
    "def calculate_Q(\n",
    "    arr_aoas : np.ndarray,\n",
    "    d_theta : float,\n",
    "    N : int\n",
    ") -> Tuple[float, np.ndarray]:\n",
    "    # Please complete me\n",
    "    ..."
   ]
  },
  {
   "cell_type": "code",
   "execution_count": null,
   "metadata": {},
   "outputs": [],
   "source": [
    "# Your turn 👇\n",
    "def transform_prox_AoAs_to_blade_AoAs(\n",
    "    df_prox : pd.DataFrame,\n",
    "    B : int,\n",
    ") -> List[pd.DataFrame]:\n",
    "    # Please complete me\n",
    "    ..."
   ]
  }
 ],
 "metadata": {
  "kernelspec": {
   "display_name": "bladesight-worksheets-fcjAY1g1-py3.11",
   "language": "python",
   "name": "python3"
  },
  "language_info": {
   "codemirror_mode": {
    "name": "ipython",
    "version": 3
   },
   "file_extension": ".py",
   "mimetype": "text/x-python",
   "name": "python",
   "nbconvert_exporter": "python",
   "pygments_lexer": "ipython3",
   "version": "3.11.0"
  },
  "orig_nbformat": 4
 },
 "nbformat": 4,
 "nbformat_minor": 2
}
