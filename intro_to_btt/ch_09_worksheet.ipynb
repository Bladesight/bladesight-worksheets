{
 "cells": [
  {
   "cell_type": "markdown",
   "metadata": {},
   "source": [
    "![alt text for screen readers](https://intro-to-btt-using-python-assets.s3.amazonaws.com/bladesight_logo_horizontal_ORIGINAL.jpg).\n",
    "# Chapter 9: Circumferential Fourier Fit (CFF) Method"
   ]
  },
  {
   "cell_type": "code",
   "execution_count": 1,
   "metadata": {},
   "outputs": [
    {
     "name": "stdout",
     "output_type": "stream",
     "text": [
      "Requirement already satisfied: bladesight in c:\\users\\dawie diamond\\appdata\\local\\pypoetry\\cache\\virtualenvs\\bladesight-worksheets-fcjay1g1-py3.11\\lib\\site-packages (0.13.2)\n",
      "Requirement already satisfied: duckdb==0.9.1 in c:\\users\\dawie diamond\\appdata\\local\\pypoetry\\cache\\virtualenvs\\bladesight-worksheets-fcjay1g1-py3.11\\lib\\site-packages (from bladesight) (0.9.1)\n",
      "Requirement already satisfied: install<2.0.0,>=1.3.5 in c:\\users\\dawie diamond\\appdata\\local\\pypoetry\\cache\\virtualenvs\\bladesight-worksheets-fcjay1g1-py3.11\\lib\\site-packages (from bladesight) (1.3.5)\n",
      "Requirement already satisfied: numba>=0.57.0 in c:\\users\\dawie diamond\\appdata\\local\\pypoetry\\cache\\virtualenvs\\bladesight-worksheets-fcjay1g1-py3.11\\lib\\site-packages (from bladesight) (0.57.1)\n",
      "Requirement already satisfied: pandas>=1.5.1 in c:\\users\\dawie diamond\\appdata\\local\\pypoetry\\cache\\virtualenvs\\bladesight-worksheets-fcjay1g1-py3.11\\lib\\site-packages (from bladesight) (2.2.0)\n",
      "Requirement already satisfied: polars<0.20.0,>=0.19.2 in c:\\users\\dawie diamond\\appdata\\local\\pypoetry\\cache\\virtualenvs\\bladesight-worksheets-fcjay1g1-py3.11\\lib\\site-packages (from bladesight) (0.19.19)\n",
      "Requirement already satisfied: s3fs<2024.0.0,>=2023.9.0 in c:\\users\\dawie diamond\\appdata\\local\\pypoetry\\cache\\virtualenvs\\bladesight-worksheets-fcjay1g1-py3.11\\lib\\site-packages (from bladesight) (2023.12.2)\n",
      "Requirement already satisfied: scipy<2.0.0,>=1.11.3 in c:\\users\\dawie diamond\\appdata\\local\\pypoetry\\cache\\virtualenvs\\bladesight-worksheets-fcjay1g1-py3.11\\lib\\site-packages (from bladesight) (1.12.0)\n",
      "Requirement already satisfied: yaspin<4.0.0,>=3.0.1 in c:\\users\\dawie diamond\\appdata\\local\\pypoetry\\cache\\virtualenvs\\bladesight-worksheets-fcjay1g1-py3.11\\lib\\site-packages (from bladesight) (3.0.1)\n",
      "Requirement already satisfied: llvmlite<0.41,>=0.40.0dev0 in c:\\users\\dawie diamond\\appdata\\local\\pypoetry\\cache\\virtualenvs\\bladesight-worksheets-fcjay1g1-py3.11\\lib\\site-packages (from numba>=0.57.0->bladesight) (0.40.1)\n",
      "Requirement already satisfied: numpy<1.25,>=1.21 in c:\\users\\dawie diamond\\appdata\\local\\pypoetry\\cache\\virtualenvs\\bladesight-worksheets-fcjay1g1-py3.11\\lib\\site-packages (from numba>=0.57.0->bladesight) (1.24.4)\n",
      "Requirement already satisfied: python-dateutil>=2.8.2 in c:\\users\\dawie diamond\\appdata\\local\\pypoetry\\cache\\virtualenvs\\bladesight-worksheets-fcjay1g1-py3.11\\lib\\site-packages (from pandas>=1.5.1->bladesight) (2.8.2)\n",
      "Requirement already satisfied: pytz>=2020.1 in c:\\users\\dawie diamond\\appdata\\local\\pypoetry\\cache\\virtualenvs\\bladesight-worksheets-fcjay1g1-py3.11\\lib\\site-packages (from pandas>=1.5.1->bladesight) (2023.4)\n",
      "Requirement already satisfied: tzdata>=2022.7 in c:\\users\\dawie diamond\\appdata\\local\\pypoetry\\cache\\virtualenvs\\bladesight-worksheets-fcjay1g1-py3.11\\lib\\site-packages (from pandas>=1.5.1->bladesight) (2023.4)\n",
      "Requirement already satisfied: aiobotocore<3.0.0,>=2.5.4 in c:\\users\\dawie diamond\\appdata\\local\\pypoetry\\cache\\virtualenvs\\bladesight-worksheets-fcjay1g1-py3.11\\lib\\site-packages (from s3fs<2024.0.0,>=2023.9.0->bladesight) (2.11.1)\n",
      "Requirement already satisfied: fsspec==2023.12.2 in c:\\users\\dawie diamond\\appdata\\local\\pypoetry\\cache\\virtualenvs\\bladesight-worksheets-fcjay1g1-py3.11\\lib\\site-packages (from s3fs<2024.0.0,>=2023.9.0->bladesight) (2023.12.2)\n",
      "Requirement already satisfied: aiohttp!=4.0.0a0,!=4.0.0a1 in c:\\users\\dawie diamond\\appdata\\local\\pypoetry\\cache\\virtualenvs\\bladesight-worksheets-fcjay1g1-py3.11\\lib\\site-packages (from s3fs<2024.0.0,>=2023.9.0->bladesight) (3.9.2)\n",
      "Requirement already satisfied: termcolor<3.0,>=2.3 in c:\\users\\dawie diamond\\appdata\\local\\pypoetry\\cache\\virtualenvs\\bladesight-worksheets-fcjay1g1-py3.11\\lib\\site-packages (from yaspin<4.0.0,>=3.0.1->bladesight) (2.4.0)\n",
      "Requirement already satisfied: botocore<1.34.28,>=1.33.2 in c:\\users\\dawie diamond\\appdata\\local\\pypoetry\\cache\\virtualenvs\\bladesight-worksheets-fcjay1g1-py3.11\\lib\\site-packages (from aiobotocore<3.0.0,>=2.5.4->s3fs<2024.0.0,>=2023.9.0->bladesight) (1.34.27)\n",
      "Requirement already satisfied: wrapt<2.0.0,>=1.10.10 in c:\\users\\dawie diamond\\appdata\\local\\pypoetry\\cache\\virtualenvs\\bladesight-worksheets-fcjay1g1-py3.11\\lib\\site-packages (from aiobotocore<3.0.0,>=2.5.4->s3fs<2024.0.0,>=2023.9.0->bladesight) (1.16.0)\n",
      "Requirement already satisfied: aioitertools<1.0.0,>=0.5.1 in c:\\users\\dawie diamond\\appdata\\local\\pypoetry\\cache\\virtualenvs\\bladesight-worksheets-fcjay1g1-py3.11\\lib\\site-packages (from aiobotocore<3.0.0,>=2.5.4->s3fs<2024.0.0,>=2023.9.0->bladesight) (0.11.0)\n",
      "Requirement already satisfied: aiosignal>=1.1.2 in c:\\users\\dawie diamond\\appdata\\local\\pypoetry\\cache\\virtualenvs\\bladesight-worksheets-fcjay1g1-py3.11\\lib\\site-packages (from aiohttp!=4.0.0a0,!=4.0.0a1->s3fs<2024.0.0,>=2023.9.0->bladesight) (1.3.1)\n",
      "Requirement already satisfied: attrs>=17.3.0 in c:\\users\\dawie diamond\\appdata\\local\\pypoetry\\cache\\virtualenvs\\bladesight-worksheets-fcjay1g1-py3.11\\lib\\site-packages (from aiohttp!=4.0.0a0,!=4.0.0a1->s3fs<2024.0.0,>=2023.9.0->bladesight) (23.1.0)\n",
      "Requirement already satisfied: frozenlist>=1.1.1 in c:\\users\\dawie diamond\\appdata\\local\\pypoetry\\cache\\virtualenvs\\bladesight-worksheets-fcjay1g1-py3.11\\lib\\site-packages (from aiohttp!=4.0.0a0,!=4.0.0a1->s3fs<2024.0.0,>=2023.9.0->bladesight) (1.4.1)\n",
      "Requirement already satisfied: multidict<7.0,>=4.5 in c:\\users\\dawie diamond\\appdata\\local\\pypoetry\\cache\\virtualenvs\\bladesight-worksheets-fcjay1g1-py3.11\\lib\\site-packages (from aiohttp!=4.0.0a0,!=4.0.0a1->s3fs<2024.0.0,>=2023.9.0->bladesight) (6.0.4)\n",
      "Requirement already satisfied: yarl<2.0,>=1.0 in c:\\users\\dawie diamond\\appdata\\local\\pypoetry\\cache\\virtualenvs\\bladesight-worksheets-fcjay1g1-py3.11\\lib\\site-packages (from aiohttp!=4.0.0a0,!=4.0.0a1->s3fs<2024.0.0,>=2023.9.0->bladesight) (1.9.4)\n",
      "Requirement already satisfied: six>=1.5 in c:\\users\\dawie diamond\\appdata\\local\\pypoetry\\cache\\virtualenvs\\bladesight-worksheets-fcjay1g1-py3.11\\lib\\site-packages (from python-dateutil>=2.8.2->pandas>=1.5.1->bladesight) (1.16.0)\n",
      "Requirement already satisfied: jmespath<2.0.0,>=0.7.1 in c:\\users\\dawie diamond\\appdata\\local\\pypoetry\\cache\\virtualenvs\\bladesight-worksheets-fcjay1g1-py3.11\\lib\\site-packages (from botocore<1.34.28,>=1.33.2->aiobotocore<3.0.0,>=2.5.4->s3fs<2024.0.0,>=2023.9.0->bladesight) (1.0.1)\n",
      "Requirement already satisfied: urllib3<2.1,>=1.25.4 in c:\\users\\dawie diamond\\appdata\\local\\pypoetry\\cache\\virtualenvs\\bladesight-worksheets-fcjay1g1-py3.11\\lib\\site-packages (from botocore<1.34.28,>=1.33.2->aiobotocore<3.0.0,>=2.5.4->s3fs<2024.0.0,>=2023.9.0->bladesight) (1.26.16)\n",
      "Requirement already satisfied: idna>=2.0 in c:\\users\\dawie diamond\\appdata\\local\\pypoetry\\cache\\virtualenvs\\bladesight-worksheets-fcjay1g1-py3.11\\lib\\site-packages (from yarl<2.0,>=1.0->aiohttp!=4.0.0a0,!=4.0.0a1->s3fs<2024.0.0,>=2023.9.0->bladesight) (3.4)\n",
      "Note: you may need to restart the kernel to use updated packages.\n"
     ]
    },
    {
     "name": "stderr",
     "output_type": "stream",
     "text": [
      "WARNING: Ignoring invalid distribution ~aleido (c:\\Users\\Dawie Diamond\\AppData\\Local\\pypoetry\\Cache\\virtualenvs\\bladesight-worksheets-fcjAY1g1-py3.11\\Lib\\site-packages)\n",
      "WARNING: Ignoring invalid distribution ~aleido (c:\\Users\\Dawie Diamond\\AppData\\Local\\pypoetry\\Cache\\virtualenvs\\bladesight-worksheets-fcjAY1g1-py3.11\\Lib\\site-packages)\n",
      "\n",
      "[notice] A new release of pip is available: 23.1 -> 24.0\n",
      "[notice] To update, run: python.exe -m pip install --upgrade pip\n"
     ]
    }
   ],
   "source": [
    "# Run this cell if you have not installed the `bladesight` package yet\n",
    "%pip install bladesight\n",
    "## NBNBNB! You may need to restart the kernel after installing the package! If you \n",
    "# installed it through the Kernel, you can skip this cell."
   ]
  },
  {
   "cell_type": "code",
   "execution_count": null,
   "metadata": {},
   "outputs": [],
   "source": [
    "# If plotly is not installed\n",
    "%pip install plotly\n",
    "## NBNBNB! You may need to restart the kernel after installing the package! If you \n",
    "# installed it through the Kernel, you can skip this cell."
   ]
  },
  {
   "cell_type": "markdown",
   "metadata": {},
   "source": [
    "# Imports\n"
   ]
  },
  {
   "cell_type": "code",
   "execution_count": 2,
   "metadata": {},
   "outputs": [
    {
     "name": "stdout",
     "output_type": "stream",
     "text": [
      "                                               \r"
     ]
    }
   ],
   "source": [
    "from bladesight import Datasets\n",
    "from bladesight.btt import get_rotor_blade_AoAs, get_blade_tip_deflections_from_AoAs\n",
    "import numpy as np\n",
    "import plotly.graph_objects as go\n",
    "import pandas as pd\n",
    "from typing import List, Tuple, Dict, Union"
   ]
  },
  {
   "cell_type": "markdown",
   "metadata": {},
   "source": [
    "## Getting the dataset"
   ]
  },
  {
   "cell_type": "code",
   "execution_count": 3,
   "metadata": {},
   "outputs": [
    {
     "name": "stdout",
     "output_type": "stream",
     "text": [
      "If you use this dataset in published work, please use the below citation:\n",
      "\n",
      "Diamond, D.H. (2023) Introduction to Blade Tip Timing using Python. Available at: docs.bladesight.com (Accessed: 14 October 2023). \n",
      "\n",
      "Link to paper: docs.bladesight.com\n"
     ]
    }
   ],
   "source": [
    "ds = Datasets[\"data/intro_to_btt/intro_to_btt_ch05\"]\n",
    "df_opr_zero_crossings = ds['table/opr_zero_crossings']\n",
    "df_prox_1 = ds['table/prox_1_toas']\n",
    "df_prox_2 = ds['table/prox_2_toas']\n",
    "df_prox_3 = ds['table/prox_3_toas']\n",
    "df_prox_4 = ds['table/prox_4_toas']\n",
    "\n",
    "BLADE_COUNT = 5\n",
    "RADIUS = 164000\n",
    "\n",
    "rotor_blade_AoA_dfs = get_rotor_blade_AoAs(\n",
    "    df_opr_zero_crossings,\n",
    "    [df_prox_1, df_prox_2, df_prox_3, df_prox_4],\n",
    "    np.cumsum(np.deg2rad(np.array([19.34, 19.34, 19.34]))),\n",
    "    BLADE_COUNT\n",
    ")\n",
    "tip_deflection_dfs = []\n",
    "for df_AoAs in rotor_blade_AoA_dfs:\n",
    "    df_tip_deflections = get_blade_tip_deflections_from_AoAs(\n",
    "        df_AoAs,\n",
    "        RADIUS,\n",
    "        11,\n",
    "        2,\n",
    "        0.5\n",
    "    )\n",
    "    tip_deflection_dfs.append(df_tip_deflections)\n",
    "df_resonance_window = tip_deflection_dfs[0].query(\"n >= 500 and n <= 600\")\n",
    "EO = 8\n"
   ]
  },
  {
   "cell_type": "markdown",
   "metadata": {},
   "source": [
    "## Single Revolution Case\n"
   ]
  },
  {
   "cell_type": "code",
   "execution_count": null,
   "metadata": {},
   "outputs": [],
   "source": [
    "def cff_method_single_revolution(\n",
    "    df_blade : pd.DataFrame,\n",
    "    theta_sensor_set : List[float],\n",
    "    EO : int,\n",
    "    signal_suffix : str = \"_filt\" \n",
    ") -> pd.DataFrame: \n",
    "    PROBE_COUNT = len(theta_sensor_set)\n",
    "    tip_deflection_signals = [\n",
    "        f\"x_p{i_probe + 1}{signal_suffix}\" \n",
    "        for i_probe in range(PROBE_COUNT)\n",
    "    ]\n",
    "    theta_sensors = np.array(theta_sensor_set)\n",
    "    A = np.ones((PROBE_COUNT, 3))\n",
    "    A[:, 0] = np.sin(theta_sensors * EO)\n",
    "    A[:, 1] = np.cos(theta_sensors * EO)\n",
    "\n",
    "    A_pinv = np.linalg.pinv(A) \n",
    "    B = A_pinv.dot(\n",
    "        df_blade.loc[:, tip_deflection_signals].values.T\n",
    "    ) \n",
    "    df_cff = pd.DataFrame(B.T, columns=[\"A\", \"B\", \"C\"]) \n",
    "    df_cff[\"X\"] = np.sqrt(df_cff[\"A\"]**2 + df_cff[\"B\"]**2)\n",
    "    df_cff[\"phi\"] = np.arctan2(df_cff[\"A\"], df_cff[\"B\"])\n",
    "    df_cff[\"n\"] = df_blade[\"n\"].values\n",
    "    df_predicted_targets = pd.DataFrame(\n",
    "        A.dot(B).T, \n",
    "        columns=[\n",
    "            col + \"_pred\" \n",
    "            for col \n",
    "            in tip_deflection_signals\n",
    "        ]\n",
    "    ) \n",
    "    df_cff = pd.concat([df_cff, df_predicted_targets], axis=1)\n",
    "    return df_cff\n"
   ]
  },
  {
   "cell_type": "code",
   "execution_count": null,
   "metadata": {},
   "outputs": [],
   "source": [
    "#%%timeit\n",
    "# Uncomment the above line to time the function 👆 \n",
    "PROBE_COUNT = 4\n",
    "df_cff_params = cff_method_single_revolution(\n",
    "    df_resonance_window,\n",
    "    [\n",
    "        df_resonance_window[f\"AoA_p{i_probe + 1}\"].median()\n",
    "        for i_probe in range(PROBE_COUNT)\n",
    "    ],\n",
    "    EO\n",
    ")\n"
   ]
  },
  {
   "cell_type": "code",
   "execution_count": null,
   "metadata": {},
   "outputs": [],
   "source": [
    "PROBE_COUNT = 4\n",
    "df_cff_params = cff_method_single_revolution(\n",
    "    df_resonance_window,\n",
    "    [\n",
    "        df_resonance_window[f\"AoA_p{i_probe + 1}\"].median()\n",
    "        for i_probe in range(PROBE_COUNT)\n",
    "    ],\n",
    "    EO\n",
    ")\n",
    "for i_probe in range(PROBE_COUNT):\n",
    "    predicted_tip_deflections = df_cff_params[f\"x_p{i_probe+1}_filt_pred\"].values\n",
    "    \n",
    "    fig = go.Figure()\n",
    "    fig.add_trace(\n",
    "        go.Scatter(\n",
    "            x=df_resonance_window['n'],\n",
    "            y=df_resonance_window[f\"x_p{i_probe+1}_filt\"].values,\n",
    "            name='Measured tip deflections, probe ' + str(i_probe + 1),\n",
    "            mode='markers+lines'\n",
    "        )\n",
    "    )\n",
    "    fig.add_trace(\n",
    "        go.Scatter(\n",
    "            x=df_cff_params['n'],\n",
    "            y=predicted_tip_deflections,\n",
    "            name='CFF predicted tip deflections, probe ' + str(i_probe + 1),\n",
    "            mode='markers+lines'\n",
    "        )\n",
    "    )\n",
    "\n",
    "    fig.update_layout(\n",
    "        title=f\"Tip deflections, probe {i_probe + 1}\",\n",
    "        xaxis_title=\"Revolution number\",\n",
    "        yaxis_title=\"Tip deflection [μm]\"\n",
    "    )\n",
    "    \n",
    "    fig.show()"
   ]
  },
  {
   "cell_type": "markdown",
   "metadata": {},
   "source": [
    "## Compare against SDoF fit"
   ]
  },
  {
   "cell_type": "code",
   "execution_count": null,
   "metadata": {},
   "outputs": [],
   "source": [
    "from bladesight.btt.infer import perform_SDoF_fit\n",
    "from bladesight.btt.infer.sdof import get_X, get_phi"
   ]
  },
  {
   "cell_type": "code",
   "execution_count": null,
   "metadata": {},
   "outputs": [],
   "source": [
    "SDoF_params = perform_SDoF_fit(\n",
    "    df_resonance_window, \n",
    "    500,\n",
    "    600,\n",
    "    [8]\n",
    ")"
   ]
  },
  {
   "cell_type": "code",
   "execution_count": null,
   "metadata": {},
   "outputs": [],
   "source": [
    "EO = 8\n",
    "sdof_X = get_X(\n",
    "    df_resonance_window['Omega'].values * EO,\n",
    "    SDoF_params['omega_n'] * 2 * np.pi,\n",
    "    SDoF_params['zeta'],\n",
    "    SDoF_params['delta_st']\n",
    ")\n",
    "sdof_phi = get_phi(\n",
    "    df_resonance_window['Omega'].values * EO,\n",
    "    SDoF_params['omega_n'] * 2 * np.pi,\n",
    "    SDoF_params['zeta'],\n",
    ") - SDoF_params[\"phi_0\"]"
   ]
  },
  {
   "cell_type": "code",
   "execution_count": null,
   "metadata": {},
   "outputs": [],
   "source": [
    "fig = go.Figure()\n",
    "\n",
    "fig.add_trace(\n",
    "    go.Scatter(\n",
    "        x=df_resonance_window['n'],\n",
    "        y=sdof_X,\n",
    "        mode=\"markers+lines\",\n",
    "        name=\"SDoF X\"\n",
    "    )\n",
    ")\n",
    "\n",
    "fig.add_trace(\n",
    "    go.Scatter(\n",
    "        x=df_resonance_window['n'],\n",
    "        y=df_cff_params[\"X\"],\n",
    "        mode=\"markers+lines\",\n",
    "        name=\"CFF X\"\n",
    "    )\n",
    ")\n",
    "fig.add_trace(\n",
    "    go.Scatter(\n",
    "        x=df_resonance_window['n'],\n",
    "        y=df_cff_params[\"C\"],\n",
    "        mode=\"markers+lines\",\n",
    "        name=\"CFF C\"\n",
    "    )\n",
    ")\n",
    "\n",
    "fig.update_layout(\n",
    "    title=\"SDoF X vs CFF X\",\n",
    "    xaxis_title=\"Revolution number\",\n",
    "    yaxis_title=\"Vibration amplitude [μm]\"\n",
    ")\n",
    "\n",
    "\n",
    "fig.show()\n"
   ]
  },
  {
   "cell_type": "code",
   "execution_count": null,
   "metadata": {},
   "outputs": [],
   "source": [
    "fig = go.Figure()\n",
    "\n",
    "fig.add_trace(\n",
    "    go.Scatter(\n",
    "        x=df_resonance_window['n'],\n",
    "        y=sdof_phi % (2 * np.pi),\n",
    "        mode=\"markers+lines\",\n",
    "        name=\"SDoF phi\"\n",
    "    )\n",
    ")\n",
    "\n",
    "fig.add_trace(\n",
    "    go.Scatter(\n",
    "        x=df_resonance_window['n'],\n",
    "        y=df_cff_params[\"phi\"] % (2 * np.pi),\n",
    "        mode=\"markers+lines\",\n",
    "        name=\"phi\"\n",
    "    )\n",
    ")\n",
    "\n",
    "fig.update_layout(\n",
    "    title=\"SDoF phi vs CFF phi\",\n",
    "    xaxis_title=\"Revolution number\",\n",
    "    yaxis_title=\"Phase [rad]\"\n",
    ")\n",
    "\n",
    "fig.show()\n"
   ]
  },
  {
   "cell_type": "code",
   "execution_count": null,
   "metadata": {},
   "outputs": [],
   "source": [
    "omega_n_568 = df_resonance_window.query(\"n == 568\")[\"Omega\"].iloc[0]*EO\n",
    "omega_n_567 = df_resonance_window.query(\"n == 567\")[\"Omega\"].iloc[0]*EO\n",
    "print(\"CFF omega_n @ n=568: {:.3f} Hz\".format(omega_n_568 / (2*np.pi)))\n",
    "print(\"CFF omega_n @ n=567: {:.3f} Hz\".format(omega_n_567 / (2*np.pi)))\n",
    "print(\"SDoF omega_n       : {:.3f} Hz\".format(SDoF_params[\"omega_n\"]))"
   ]
  },
  {
   "cell_type": "markdown",
   "metadata": {},
   "source": [
    "## Estimating the EO"
   ]
  },
  {
   "cell_type": "code",
   "execution_count": null,
   "metadata": {},
   "outputs": [],
   "source": [
    "PROBE_COUNT = 4\n",
    "EOs = np.arange(1, 17)\n",
    "errors = []\n",
    "for EO in EOs:\n",
    "    df_cff_params = cff_method_single_revolution(\n",
    "        df_resonance_window,\n",
    "        [\n",
    "            df_resonance_window[f\"AoA_p{i_probe + 1}\"].median()\n",
    "            for i_probe in range(PROBE_COUNT)\n",
    "        ],\n",
    "        EO\n",
    "    )\n",
    "    error = 0\n",
    "    for i_probe in range(PROBE_COUNT):\n",
    "        error += np.sum(\n",
    "            (\n",
    "                df_cff_params[f\"x_p{i_probe+1}_filt_pred\"].values \n",
    "                - df_resonance_window[f\"x_p{i_probe+1}_filt\"].values\n",
    "            )**2\n",
    "        )\n",
    "    errors.append(error)\n",
    "print(\"Most likely EO:\", EOs[np.argmin(errors)])\n"
   ]
  },
  {
   "cell_type": "code",
   "execution_count": null,
   "metadata": {},
   "outputs": [],
   "source": [
    "fig = go.Figure()\n",
    "fig.add_trace(\n",
    "    go.Bar(\n",
    "        x=EOs,\n",
    "        y=errors\n",
    "    )\n",
    ")\n",
    "fig.update_layout(\n",
    "    title=\"Error vs EO\",\n",
    "    xaxis_title=\"EO\",\n",
    "    yaxis_title=\"Error\"\n",
    ")\n",
    "fig.show()\n"
   ]
  },
  {
   "cell_type": "markdown",
   "metadata": {},
   "source": [
    "## Coding exercises"
   ]
  },
  {
   "cell_type": "markdown",
   "metadata": {},
   "source": [
    "### 1. Multiple Revolution Case"
   ]
  },
  {
   "cell_type": "code",
   "execution_count": null,
   "metadata": {},
   "outputs": [],
   "source": [
    "def cff_method_multiple_revolutions(\n",
    "    df_blade : pd.DataFrame,\n",
    "    theta_sensor_set : List[float],\n",
    "    EO : int,\n",
    "    extra_revolutions : int,\n",
    "    signal_suffix : str = \"_filt\" \n",
    ") -> pd.DataFrame:\n",
    "    ...\n",
    "    # Please complete me!"
   ]
  },
  {
   "cell_type": "markdown",
   "metadata": {},
   "source": [
    "### 2. Writing a function we can use"
   ]
  },
  {
   "cell_type": "code",
   "execution_count": null,
   "metadata": {},
   "outputs": [],
   "source": [
    "def perform_CFF_fit(\n",
    "    df_blade : pd.DataFrame,\n",
    "    n_start : int,\n",
    "    n_end : int,\n",
    "    EOs : List[int] = np.arange(1, 20),\n",
    "    extra_revolutions : int = 1\n",
    ") -> Dict[str, Union[pd.DataFrame, int]]:\n",
    "    ...\n",
    "    # Please complete me!"
   ]
  }
 ],
 "metadata": {
  "kernelspec": {
   "display_name": "bladesight-user-dev--TYyjGa9-py3.11",
   "language": "python",
   "name": "python3"
  },
  "language_info": {
   "codemirror_mode": {
    "name": "ipython",
    "version": 3
   },
   "file_extension": ".py",
   "mimetype": "text/x-python",
   "name": "python",
   "nbconvert_exporter": "python",
   "pygments_lexer": "ipython3",
   "version": "3.11.0"
  }
 },
 "nbformat": 4,
 "nbformat_minor": 2
}
