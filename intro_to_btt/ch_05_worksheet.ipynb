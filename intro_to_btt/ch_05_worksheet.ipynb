{
 "cells": [
  {
   "cell_type": "markdown",
   "metadata": {},
   "source": [
    "![alt text for screen readers](https://intro-to-btt-using-python-assets.s3.amazonaws.com/bladesight_logo_horizontal_ORIGINAL.jpg).\n",
    "# Chapter 5: Multiple probes"
   ]
  },
  {
   "cell_type": "markdown",
   "metadata": {},
   "source": [
    "## Dependencies"
   ]
  },
  {
   "cell_type": "code",
   "execution_count": null,
   "metadata": {},
   "outputs": [],
   "source": [
    "# Run this cell if you have not installed the `bladesight` package yet\n",
    "%pip install bladesight\n",
    "## NBNBNB! You may need to restart the kernel after installing the package! If you \n",
    "# installed it through the Kernel, you can skip this cell."
   ]
  },
  {
   "cell_type": "code",
   "execution_count": null,
   "metadata": {},
   "outputs": [],
   "source": [
    "# If plotly is not installed\n",
    "%pip install plotly\n",
    "## NBNBNB! You may need to restart the kernel after installing the package! If you \n",
    "# installed it through the Kernel, you can skip this cell."
   ]
  },
  {
   "cell_type": "code",
   "execution_count": null,
   "metadata": {},
   "outputs": [],
   "source": [
    "# If Numba is not installed\n",
    "%pip install numba\n",
    "## NBNBNB! You may need to restart the kernel after installing the package! If you \n",
    "# installed it through the Kernel, you can skip this cell."
   ]
  },
  {
   "cell_type": "markdown",
   "metadata": {},
   "source": [
    "## Imports"
   ]
  },
  {
   "cell_type": "code",
   "execution_count": null,
   "metadata": {},
   "outputs": [],
   "source": [
    "from bladesight import Datasets\n",
    "from bladesight.btt.triggering_criteria import threshold_crossing_hysteresis_pos\n",
    "from bladesight.btt.aoa import transform_ToAs_to_AoAs, transform_prox_AoAs_to_blade_AoAs\n",
    "import pandas as pd\n",
    "import plotly.graph_objects as go\n",
    "import numpy as np\n",
    "from typing import List"
   ]
  },
  {
   "cell_type": "code",
   "execution_count": null,
   "metadata": {},
   "outputs": [],
   "source": [
    "ds = Datasets[\"data/intro_to_btt/intro_to_btt_ch05\"]\n",
    "df_opr_zero_crossings = ds['table/opr_zero_crossings']\n",
    "df_prox_1 = ds['table/prox_1_toas']\n",
    "df_prox_2 = ds['table/prox_2_toas']\n",
    "df_prox_3 = ds['table/prox_3_toas']\n",
    "df_prox_4 = ds['table/prox_4_toas']\n"
   ]
  },
  {
   "cell_type": "markdown",
   "metadata": {},
   "source": [
    "## Assembling probe level merged DataFrames"
   ]
  },
  {
   "cell_type": "code",
   "execution_count": null,
   "metadata": {},
   "outputs": [],
   "source": [
    "\n",
    "probes_dfs = []\n",
    "blade_probes_dfs = []\n",
    "B = 5\n",
    "\n",
    "for df_prox_toas in [df_prox_1, df_prox_2, df_prox_3, df_prox_4]:\n",
    "    df_prox = transform_ToAs_to_AoAs(\n",
    "        df_opr_zero_crossings, \n",
    "        df_prox_toas, \n",
    "    )\n",
    "    \n",
    "    blade_probes_dfs.append(\n",
    "        transform_prox_AoAs_to_blade_AoAs(\n",
    "            df_prox, \n",
    "            B\n",
    "        )\n",
    "    )"
   ]
  },
  {
   "cell_type": "code",
   "execution_count": null,
   "metadata": {},
   "outputs": [],
   "source": [
    "print(\"df_prox all blades\")\n",
    "df_prox.head(15)"
   ]
  },
  {
   "cell_type": "code",
   "execution_count": null,
   "metadata": {},
   "outputs": [],
   "source": [
    "for blade_no in range(5):\n",
    "    print(f\"Blade {blade_no}:\")\n",
    "    print(blade_probes_dfs[-1][blade_no].head(3))"
   ]
  },
  {
   "cell_type": "code",
   "execution_count": null,
   "metadata": {},
   "outputs": [],
   "source": [
    "def align_blade_AoAs_along_revolutions(\n",
    "    prox_AoA_dfs : List[pd.DataFrame]\n",
    ") -> pd.DataFrame:\n",
    "    \"\"\"This function aligns the AoA DataFrames (from the \n",
    "        transform_prox_AoAs_to_blade_AoAs function) along\n",
    "        the shaft revolutions.\n",
    "\n",
    "        The function returns a DataFrame with the ToA\n",
    "        and AoA values for each blade having a column.\n",
    "\n",
    "    Args:\n",
    "        prox_AoA_dfs (List[pd.DataFrame]): A list of DataFrames\n",
    "        where each DataFrame contains the ToA and AoA values\n",
    "        for a single blade from a proximity probe.\n",
    "\n",
    "    Returns:\n",
    "        pd.DataFrame: A DataFrame where every row contains the\n",
    "        data pertaining to a single shaft revolution and every \n",
    "        blade's ToA and AoA values are in its own column respectively.\n",
    "    \"\"\"\n",
    "    df_blades_aligned = prox_AoA_dfs[0]\n",
    "    # Rename the ToA and AoA columns to include the blade number\n",
    "    df_blades_aligned = df_blades_aligned.rename(columns={\"ToA\":\"ToA_1\", \"AoA\":\"AoA_1\"})\n",
    "    for i, df_blade in enumerate(prox_AoA_dfs[1:]):\n",
    "        df_blades_aligned = df_blades_aligned.merge(\n",
    "            df_blade[[\"n\", \"ToA\", \"AoA\"]].rename(columns={\"ToA\":\"ToA_\"+str(i+2), \"AoA\":\"AoA_\"+str(i+2)}),\n",
    "            how=\"outer\",\n",
    "            on=\"n\"\n",
    "        )\n",
    "    return df_blades_aligned\n"
   ]
  },
  {
   "cell_type": "code",
   "execution_count": null,
   "metadata": {},
   "outputs": [],
   "source": [
    "blade_dfs_recombined = []\n",
    "for prox_list_AoAs in blade_probes_dfs:\n",
    "    blade_dfs_recombined.append(\n",
    "        align_blade_AoAs_along_revolutions(prox_list_AoAs)\n",
    "    )"
   ]
  },
  {
   "cell_type": "code",
   "execution_count": null,
   "metadata": {},
   "outputs": [],
   "source": [
    "blade_dfs_recombined[-1].head(3)"
   ]
  },
  {
   "cell_type": "markdown",
   "metadata": {},
   "source": [
    "# Stack plot"
   ]
  },
  {
   "cell_type": "code",
   "execution_count": null,
   "metadata": {},
   "outputs": [],
   "source": [
    "def create_stack_plot_df(df_blades_aligned : pd.DataFrame) -> pd.DataFrame:\n",
    "    \"\"\" This function creates a DataFrame that shows the consecutive\n",
    "    difference between adjacent blades for each shaft revolution.\n",
    "    \n",
    "    Args:\n",
    "        df_blades_aligned (pd.DataFrame): A DataFrame where every row contains the\n",
    "        data pertaining to a single shaft revolution and every\n",
    "        blade's ToA and AoA values are in its own column respectively. This\n",
    "        is the output of the `align_blade_AoAs_along_revolutions` function.\n",
    "\n",
    "    Returns:\n",
    "        pd.DataFrame: A DataFrame where every row contains the\n",
    "        data pertaining to a single shaft revolution and every\n",
    "    \"\"\"\n",
    "    all_aoa_columns = sorted([\n",
    "        i for i in df_blades_aligned.columns \n",
    "        if i.startswith(\"AoA_\")\n",
    "    ])\n",
    "    B = len(all_aoa_columns)\n",
    "    stack_plot_diffs = {}\n",
    "    stack_plot_diffs[\"n\"] = df_blades_aligned[\"n\"].to_numpy()\n",
    "    for blade_no in range(B - 1):\n",
    "        further_blade_name = all_aoa_columns[blade_no + 1]\n",
    "        closer_blade_name = all_aoa_columns[blade_no]\n",
    "        arr_blade_diffs = (\n",
    "            df_blades_aligned[further_blade_name] \n",
    "            - df_blades_aligned[closer_blade_name]\n",
    "        ).to_numpy()\n",
    "        \n",
    "        stack_plot_diffs[closer_blade_name] = arr_blade_diffs\n",
    "    further_blade_name = all_aoa_columns[0]\n",
    "    closer_blade_name = all_aoa_columns[B - 1]\n",
    "    arr_blade_diffs = (\n",
    "        df_blades_aligned[further_blade_name].to_numpy()[1:] + 2*np.pi \n",
    "        - df_blades_aligned[closer_blade_name].to_numpy()[:-1]\n",
    "    )\n",
    "    # Append a NaN to the end of arr_blade_diffs\n",
    "    # so that it has the same length as the other\n",
    "    # blade difference arrays\n",
    "    arr_blade_diffs = np.append(arr_blade_diffs, [None])\n",
    "    stack_plot_diffs[closer_blade_name] = arr_blade_diffs\n",
    "    return pd.DataFrame(stack_plot_diffs)\n"
   ]
  },
  {
   "cell_type": "code",
   "execution_count": null,
   "metadata": {},
   "outputs": [],
   "source": [
    "stack_plot_dfs = []\n",
    "for df in blade_dfs_recombined:\n",
    "    stack_plot_dfs.append(create_stack_plot_df(df))\n",
    "print(stack_plot_dfs[0].median())"
   ]
  },
  {
   "cell_type": "code",
   "execution_count": null,
   "metadata": {},
   "outputs": [],
   "source": [
    "fig = go.Figure()\n",
    "x = np.arange(len(stack_plot_dfs[0]))\n",
    "for prox_no, df_prox_stack in enumerate(stack_plot_dfs):\n",
    "    stack_plot_median = df_prox_stack.iloc[:, 1:].median()\n",
    "    fig.add_trace(\n",
    "        go.Scatter(\n",
    "            x=x,\n",
    "            y=stack_plot_median,\n",
    "            mode=\"lines\",\n",
    "            name=f\"Proximity probe {prox_no}\"\n",
    "        )\n",
    "    )\n",
    "fig.update_layout(\n",
    "    title=\"Stack plot for proximity probe\",\n",
    "    xaxis_title=\"Blade No\",\n",
    "    yaxis_title=\"AoA difference [rad]\",\n",
    "    xaxis=dict(\n",
    "        tickmode=\"array\",\n",
    "        tickvals=x,\n",
    "        ticktext=[str(i) for i in stack_plot_median.index]\n",
    "    )\n",
    ")\n",
    "fig.show()"
   ]
  },
  {
   "cell_type": "markdown",
   "metadata": {},
   "source": [
    "### Offsetting the stack plot values"
   ]
  },
  {
   "cell_type": "code",
   "execution_count": null,
   "metadata": {},
   "outputs": [],
   "source": [
    "def shift_AoA_column_headings(\n",
    "    aoa_column_headings : List[str], \n",
    "    shift_by : int\n",
    ") -> List[str]:\n",
    "    \"\"\"This function shifts the columns headings of the AoA\n",
    "    such that the first column heading represents the first blade\n",
    "    arriving at the first probe.\n",
    "\n",
    "    Args:\n",
    "        arr_values (np.ndarray): The array of values to be shifted\n",
    "        shift_by (int): The number of positions to shift the values\n",
    "        in the array by.\n",
    "\n",
    "    Returns:\n",
    "        np.ndarray: The shifted array of values.\n",
    "    \"\"\"\n",
    "    if shift_by >= len(aoa_column_headings):\n",
    "        raise ValueError(\"shift_by must be less than the number blades in aoa_column_headings\")\n",
    "    return (\n",
    "        list(aoa_column_headings)[shift_by:] \n",
    "        + list(aoa_column_headings)[:shift_by]\n",
    "    )"
   ]
  },
  {
   "cell_type": "code",
   "execution_count": null,
   "metadata": {},
   "outputs": [],
   "source": [
    "probe_1_col_headings = [\"AoA_1\", \"AoA_2\", \"AoA_3\", \"AoA_4\", \"AoA_5\"]\n",
    "print(\"Shift by 0:\", shift_AoA_column_headings(probe_1_col_headings, 0))\n",
    "print(\"Shift by 1:\", shift_AoA_column_headings(probe_1_col_headings, 1))\n",
    "print(\"Shift by 2:\", shift_AoA_column_headings(probe_1_col_headings, 2))\n",
    "print(\"Shift by 3:\", shift_AoA_column_headings(probe_1_col_headings, 3))\n",
    "print(\"Shift by 4:\", shift_AoA_column_headings(probe_1_col_headings, 4))\n"
   ]
  },
  {
   "cell_type": "code",
   "execution_count": null,
   "metadata": {},
   "outputs": [],
   "source": [
    "def rename_df_columns_for_alignment(\n",
    "    df_to_align : pd.DataFrame,\n",
    "    global_column_headings : List[str],\n",
    "    shift_by : int\n",
    ") -> pd.DataFrame:\n",
    "    \"\"\"This function performs two tasks. Firstly, it determines the mapping \n",
    "    between the global column headings and the column headings `df_to_align`. \n",
    "    Secondly, it renames and re-orders the columns in df_to_align such that \n",
    "    the columns appear in the same order in df_to_align.\n",
    "\n",
    "    Args:\n",
    "        df_to_align (pd.DataFrame): The DataFrame whose columns are to be\n",
    "            renamed and re-ordered.\n",
    "        global_column_headings (List[str]): The column headings\n",
    "            to which the columns in df_to_align should be mapped. This\n",
    "            will normally be AoA or ToA column headings.\n",
    "        shift_by (int): The number of positions to shift the values\n",
    "            in the array by.\n",
    "\n",
    "    Returns:\n",
    "        pd.DataFrame: The DataFrame with the renamed and re-ordered columns.\n",
    "    \"\"\"\n",
    "    # Create a dictionary that maps the column headings in df_to_align\n",
    "    # to the global column headings\n",
    "    shifted_dataframe_columns = shift_AoA_column_headings(\n",
    "        global_column_headings, \n",
    "        shift_by\n",
    "    )\n",
    "    column_headings_to_rename = {\n",
    "        local_col : global_col\n",
    "        for local_col, global_col \n",
    "        in zip(\n",
    "            shifted_dataframe_columns,\n",
    "            global_column_headings\n",
    "        )\n",
    "    }\n",
    "    original_column_order = list(df_to_align.columns)\n",
    "    # Rename the columns in df_to_align\n",
    "    df_to_align = df_to_align.rename(\n",
    "        columns=column_headings_to_rename\n",
    "    )\n",
    "    return df_to_align[original_column_order]"
   ]
  },
  {
   "cell_type": "code",
   "execution_count": null,
   "metadata": {},
   "outputs": [],
   "source": [
    "stack_plot_dfs_aligned = []\n",
    "offsets = [0,1,1,1]\n",
    "\n",
    "for df, offset in zip(stack_plot_dfs, offsets):\n",
    "    df_aoas_shifted = rename_df_columns_for_alignment(\n",
    "        df, \n",
    "        [\"AoA_1\", \"AoA_2\", \"AoA_3\", \"AoA_4\", \"AoA_5\"], \n",
    "        offset\n",
    "    )\n",
    "    stack_plot_dfs_aligned.append(\n",
    "        df_aoas_shifted\n",
    "    )"
   ]
  },
  {
   "cell_type": "code",
   "execution_count": null,
   "metadata": {},
   "outputs": [],
   "source": [
    "fig = go.Figure()\n",
    "x = np.arange(len(stack_plot_dfs_aligned[0]))\n",
    "x_names = None\n",
    "for prox_no, df_prox_stack in enumerate(stack_plot_dfs_aligned):\n",
    "    stack_plot_median = df_prox_stack.iloc[:, 1:].median()\n",
    "    if x_names is None:\n",
    "        x_names = stack_plot_median.index.to_list()\n",
    "    fig.add_trace(\n",
    "        go.Scatter(\n",
    "            x=x,\n",
    "            y=stack_plot_median,\n",
    "            mode=\"lines\",\n",
    "            name=f\"Proximity probe {prox_no}\"\n",
    "        )\n",
    "    )\n",
    "fig.update_layout(\n",
    "    title=\"Stack plot for proximity probe\",\n",
    "    xaxis_title=\"Blade No\",\n",
    "    yaxis_title=\"AoA difference [rad]\",\n",
    "    xaxis=dict(\n",
    "        tickmode=\"array\",\n",
    "        tickvals=x,\n",
    "        ticktext=[str(i) for i in x_names]\n",
    "    )\n",
    ")\n",
    "fig.show()"
   ]
  },
  {
   "cell_type": "markdown",
   "metadata": {},
   "source": [
    "### Calculating the shift based on probe spacing "
   ]
  },
  {
   "cell_type": "code",
   "execution_count": null,
   "metadata": {},
   "outputs": [],
   "source": [
    "def predict_probe_offset(\n",
    "        df_probe_AoAs : pd.DataFrame,\n",
    "        starting_aoa : float, \n",
    "        prox_probe_relative_distance : float,\n",
    "    ) -> int:\n",
    "    \"\"\"This function calculates the offset that needs to be applied to\n",
    "    the AoA columns of the current probe to align them with the first\n",
    "    probe.\n",
    "\n",
    "    Args:\n",
    "        df_probe_AoAs (pd.DataFrame): A DataFrame where\n",
    "            every row contains the data pertaining to a single shaft\n",
    "            revolution and every blade's ToA and AoA values are in its\n",
    "            own column respectively. This is the output of the\n",
    "            `align_blade_AoAs_along_revolutions` function.\n",
    "        starting_aoa (float): The mean AoA of the blade you want to\n",
    "            project forward and identify in df_probe_AoAs. In radians.\n",
    "        prox_probe_relative_distance (float): The relative distance\n",
    "            between the current probe and the first probe. In radians.\n",
    "\n",
    "\n",
    "    Returns:\n",
    "        int: The blade offset that needs to be applied to the AoA values\n",
    "            in df_probe_AoAs to align it to the blade in starting_aoa\n",
    "    \"\"\"\n",
    "    predicted_blade_position = (\n",
    "        starting_aoa \n",
    "        + prox_probe_relative_distance\n",
    "    ) % (2*np.pi)\n",
    "    all_aoa_columns = sorted([\n",
    "        i for i in df_probe_AoAs.columns \n",
    "        if i.startswith(\"AoA_\")\n",
    "    ])\n",
    "    current_probe_median_AoAs = df_probe_AoAs[all_aoa_columns].median()\n",
    "    err_aoa = np.abs(current_probe_median_AoAs - predicted_blade_position)\n",
    "    offset = np.argmin(err_aoa)\n",
    "    return offset\n"
   ]
  },
  {
   "cell_type": "code",
   "execution_count": null,
   "metadata": {},
   "outputs": [],
   "source": [
    "probe_1_blade_1_AoA = blade_dfs_recombined[0][\"AoA_1\"].median()\n",
    "probe_spacings = np.deg2rad(np.array([0, 19.34, 19.34*2, 19.34*3]))\n",
    "for i, (df_probe_AoAs, probe_spacing) in enumerate(zip(blade_dfs_recombined, probe_spacings)):\n",
    "    probe_offset = predict_probe_offset(\n",
    "        df_probe_AoAs,\n",
    "        probe_1_blade_1_AoA,\n",
    "        probe_spacing\n",
    "    )\n",
    "    print(f\"Probe {i + 1 }:\", probe_offset)"
   ]
  },
  {
   "cell_type": "markdown",
   "metadata": {},
   "source": [
    "## Assembling global rotor level merged DataFrames\n"
   ]
  },
  {
   "cell_type": "code",
   "execution_count": null,
   "metadata": {},
   "outputs": [],
   "source": [
    "def assemble_rotor_AoA_dfs(\n",
    "    prox_aligned_dfs : List[pd.DataFrame], \n",
    "    probe_spacing : List[float]\n",
    ") -> List[pd.DataFrame]:\n",
    "    \"\"\"This function assembles the rotor blade AoA DataFrames. In other\n",
    "    words, this function receives the grouped AoA DataFrames from each\n",
    "    probe, the one calculated by `align_blade_AoAs_along_revolutions` and \n",
    "    shifts the AoA values of each probe such that the first\n",
    "    blade arriving at the first probe is aligned with the first blade\n",
    "    arriving at the first probe. \n",
    "\n",
    "    We then assemble B DataFrames containing only all the information\n",
    "    from a single blade over every probe.\n",
    "\n",
    "    Args:\n",
    "        prox_aligned_dfs (List[pd.DataFrame]): A list of DataFrames\n",
    "            where each DataFrame contains the ToAs and AoAs of a single\n",
    "            blade from a proximity probe. Each DataFrame is the output\n",
    "            of the `align_blade_AoAs_along_revolutions` function. \n",
    "        probe_spacing (List[int]): A list of relative probe spacing\n",
    "            between the first probe and every other probe. There are one\n",
    "            less value in this list than in prox_aligned_dfs.\n",
    "\n",
    "    Returns:\n",
    "        List[pd.DataFrame]: A list of DataFrames where each DataFrame\n",
    "            contains the ToAs and AoAs of a single blade over all\n",
    "            the proximity probes.\n",
    "    \"\"\"\n",
    "    all_aoa_columns = sorted([\n",
    "        i for i in prox_aligned_dfs[0].columns \n",
    "        if i.startswith(\"AoA_\")\n",
    "    ])\n",
    "    all_toa_columns = sorted([\n",
    "        i for i in prox_aligned_dfs[0].columns \n",
    "        if i.startswith(\"ToA_\")\n",
    "    ])\n",
    "    remaining_columns = [\n",
    "        i for i in prox_aligned_dfs[0].columns \n",
    "        if not i.startswith(\"ToA_\") and not i.startswith(\"AoA_\")\n",
    "    ]\n",
    "    B = len(all_aoa_columns)\n",
    "    P = len(prox_aligned_dfs)\n",
    "    if P  - 1 != len(probe_spacing):\n",
    "        raise ValueError(\n",
    "            \"The number of proximity probes must be \"\n",
    "            \"one less than the number of probe spacings\"\n",
    "        )\n",
    "    rotor_blade_dfs = []\n",
    "    for b in range(1, B+1):\n",
    "        columns_to_copy = remaining_columns + [f\"ToA_{b}\", f\"AoA_{b}\"]\n",
    "        rename_dict = {\n",
    "            f\"ToA_{b}\" : \"ToA_p1\",\n",
    "            f\"AoA_{b}\" : \"AoA_p1\"\n",
    "        }\n",
    "        rotor_blade_dfs.append(\n",
    "            prox_aligned_dfs[0][columns_to_copy]\n",
    "            .copy(deep=True)\n",
    "            .rename(\n",
    "                columns=rename_dict\n",
    "            )\n",
    "        )\n",
    "    blade_1_probe_1_median = rotor_blade_dfs[0][\"AoA_p1\"].median()\n",
    "    for iter_count, (df_probe_AoA, probe_offset) in enumerate(\n",
    "            zip(prox_aligned_dfs[1:], probe_spacing)\n",
    "        ):\n",
    "        probe_no = iter_count + 2\n",
    "        probe_offset = predict_probe_offset(\n",
    "            df_probe_AoA,\n",
    "            blade_1_probe_1_median,\n",
    "            probe_offset\n",
    "        )\n",
    "        df_probe_AoAs_aligned = rename_df_columns_for_alignment(\n",
    "            df_probe_AoA,\n",
    "            all_aoa_columns,\n",
    "            probe_offset\n",
    "        )\n",
    "        df_probe_AoAs_aligned = rename_df_columns_for_alignment(\n",
    "            df_probe_AoAs_aligned,\n",
    "            all_toa_columns,\n",
    "            probe_offset\n",
    "        )\n",
    "        for b in range(1, B+1):\n",
    "            columns_to_merge = [\"n\", f\"ToA_{b}\", f\"AoA_{b}\"]\n",
    "            rename_dict = {\n",
    "                f\"ToA_{b}\" : f\"ToA_p{probe_no}\",\n",
    "                f\"AoA_{b}\" : f\"AoA_p{probe_no}\"\n",
    "            }\n",
    "            rotor_blade_dfs[b - 1] = rotor_blade_dfs[b - 1].merge(\n",
    "                df_probe_AoAs_aligned[columns_to_merge].rename(\n",
    "                    columns=rename_dict\n",
    "                ),\n",
    "                how=\"outer\",\n",
    "                on=\"n\"\n",
    "            )\n",
    "    return rotor_blade_dfs"
   ]
  },
  {
   "cell_type": "code",
   "execution_count": null,
   "metadata": {},
   "outputs": [],
   "source": [
    "prox_relative_distances = np.cumsum(np.deg2rad(np.array([9.67*2, 9.67*2, 9.67*2])))\n",
    "rotor_blade_AoA_dfs = assemble_rotor_AoA_dfs(\n",
    "    prox_aligned_dfs=blade_dfs_recombined,\n",
    "    probe_spacing=prox_relative_distances\n",
    ")"
   ]
  },
  {
   "cell_type": "code",
   "execution_count": null,
   "metadata": {},
   "outputs": [],
   "source": [
    "rotor_blade_AoA_dfs[0].head(3)"
   ]
  },
  {
   "cell_type": "code",
   "execution_count": null,
   "metadata": {},
   "outputs": [],
   "source": [
    "rotor_blade_AoA_dfs[-1].head(3)"
   ]
  },
  {
   "cell_type": "markdown",
   "metadata": {},
   "source": [
    "Can you spot the resonances below? 👇"
   ]
  },
  {
   "cell_type": "code",
   "execution_count": null,
   "metadata": {},
   "outputs": [],
   "source": [
    "fig = go.Figure()\n",
    "\n",
    "for probe in range(1, 5):\n",
    "    fig.add_trace(\n",
    "        go.Scatter(\n",
    "            x=rotor_blade_AoA_dfs[0][\"n\"],\n",
    "            y=(\n",
    "                rotor_blade_AoA_dfs[0][f\"AoA_p{probe}\"] \n",
    "                - rotor_blade_AoA_dfs[0][f\"AoA_p{probe}\"].mean()\n",
    "            ),\n",
    "            mode=\"lines\",\n",
    "            name=f\"Probe {probe}\"\n",
    "        )\n",
    "    )\n",
    "\n",
    "fig.update_layout(\n",
    "    title=\"AoAs for blade 1\",\n",
    "    xaxis_title=\"Revolution number\",\n",
    "    yaxis_title=\"AoA [rad] (normalised)\",\n",
    ")\n",
    "fig.show()"
   ]
  },
  {
   "cell_type": "code",
   "execution_count": null,
   "metadata": {},
   "outputs": [],
   "source": [
    "(rotor_blade_AoA_dfs[0][f\"AoA_p{probe}\"] \n",
    "- rotor_blade_AoA_dfs[0][f\"AoA_p{probe}\"].mean())"
   ]
  },
  {
   "cell_type": "markdown",
   "metadata": {},
   "source": [
    "## Coding exercises"
   ]
  },
  {
   "cell_type": "markdown",
   "metadata": {},
   "source": [
    "### 1. One function to rule them all"
   ]
  },
  {
   "cell_type": "code",
   "execution_count": null,
   "metadata": {},
   "outputs": [],
   "source": [
    "def get_rotor_blade_AoAs(\n",
    "    df_opr_zero_crossings : pd.DataFrame,\n",
    "    prox_probe_toas : List[pd.DataFrame],\n",
    "    probe_spacings : List[float],\n",
    "    B : int\n",
    ") -> List[pd.DataFrame]:\n",
    "    ...\n",
    "    # Please complete me"
   ]
  },
  {
   "cell_type": "markdown",
   "metadata": {},
   "source": [
    "### 2. Predicting the probe spacing"
   ]
  },
  {
   "cell_type": "code",
   "execution_count": null,
   "metadata": {},
   "outputs": [],
   "source": [
    "def predict_probe_spacing(\n",
    "    df_prox_1_AoAs : pd.DataFrame,\n",
    "    df_prox_2_AoAs : pd.DataFrame,\n",
    ") -> float:\n",
    "    ...\n",
    "    # Please complete me"
   ]
  }
 ],
 "metadata": {
  "kernelspec": {
   "display_name": "bladesight-user-dev--TYyjGa9-py3.11",
   "language": "python",
   "name": "python3"
  },
  "language_info": {
   "codemirror_mode": {
    "name": "ipython",
    "version": 3
   },
   "file_extension": ".py",
   "mimetype": "text/x-python",
   "name": "python",
   "nbconvert_exporter": "python",
   "pygments_lexer": "ipython3",
   "version": "3.11.0"
  }
 },
 "nbformat": 4,
 "nbformat_minor": 2
}
