{
 "cells": [
  {
   "cell_type": "markdown",
   "metadata": {},
   "source": [
    "![alt text for screen readers](https://intro-to-btt-using-python-assets.s3.amazonaws.com/bladesight_logo_horizontal_ORIGINAL.jpg).\n",
    "## Chapter 2: Data zeroing and Filtering "
   ]
  },
  {
   "cell_type": "markdown",
   "metadata": {},
   "source": [
    "## Dependencies"
   ]
  },
  {
   "cell_type": "code",
   "execution_count": null,
   "metadata": {},
   "outputs": [],
   "source": [
    "# Run this cell if you have not installed the `bladesight` package yet\n",
    "%pip install bladesight\n",
    "## NBNBNB! You may need to restart the kernel after installing the package! If you \n",
    "# installed it through the Kernel, you can skip this cell."
   ]
  },
  {
   "cell_type": "code",
   "execution_count": null,
   "metadata": {},
   "outputs": [],
   "source": [
    "# If plotly is not installed\n",
    "%pip install plotly\n",
    "## NBNBNB! You may need to restart the kernel after installing the package! If you \n",
    "# installed it through the Kernel, you can skip this cell."
   ]
  },
  {
   "cell_type": "code",
   "execution_count": null,
   "metadata": {},
   "outputs": [],
   "source": [
    "# If Numba is not installed\n",
    "%pip install numba\n",
    "## NBNBNB! You may need to restart the kernel after installing the package! If you \n",
    "# installed it through the Kernel, you can skip this cell."
   ]
  },
  {
   "cell_type": "markdown",
   "metadata": {},
   "source": [
    "## Imports"
   ]
  },
  {
   "cell_type": "code",
   "execution_count": null,
   "metadata": {},
   "outputs": [],
   "source": [
    "# Import the Datasets handler from the bladesight package\n",
    "from bladesight import Datasets\n",
    "from plotly.subplots import make_subplots\n",
    "import plotly.graph_objects as go"
   ]
  },
  {
   "cell_type": "code",
   "execution_count": null,
   "metadata": {},
   "outputs": [],
   "source": [
    "# Load the dataset\n",
    "ds_ch2 = Datasets[\"data/intro_to_btt/intro_to_btt_ch02\"]\n",
    "\n",
    "df_proximity_probe = ds_ch2[\"table/three_generated_pulses\"]"
   ]
  },
  {
   "cell_type": "markdown",
   "metadata": {},
   "source": [
    "## Vectorized Implementation"
   ]
  },
  {
   "cell_type": "code",
   "execution_count": null,
   "metadata": {},
   "outputs": [],
   "source": [
    "TRIGGER_ON_RISING_EDGE = True\n",
    "THRESHOLD_LEVEL = 0.4 # Volts\n",
    "\n",
    "if TRIGGER_ON_RISING_EDGE:\n",
    "    sr_threshold_over = (df_proximity_probe['data'] >= THRESHOLD_LEVEL).astype(int)\n",
    "else:\n",
    "    sr_threshold_over = (df_proximity_probe['data'] <= THRESHOLD_LEVEL).astype(int)\n",
    "\n",
    "diff_sr_threshold = sr_threshold_over.diff()\n",
    "\n",
    "diff_sr_threshold = diff_sr_threshold.bfill()\n",
    "\n",
    "sr_threshold_change = diff_sr_threshold > 0\n",
    "\n",
    "sr_toas = df_proximity_probe['time'][sr_threshold_change]"
   ]
  },
  {
   "cell_type": "code",
   "execution_count": null,
   "metadata": {},
   "outputs": [],
   "source": [
    "print(\"THE TOAs ARE:\")\n",
    "print(sr_toas.values)"
   ]
  },
  {
   "cell_type": "markdown",
   "metadata": {},
   "source": [
    "## Visualize the three pulses and the algorithm"
   ]
  },
  {
   "cell_type": "code",
   "execution_count": null,
   "metadata": {},
   "outputs": [],
   "source": [
    "df_proximity_probe['over?'] = sr_threshold_over\n",
    "df_proximity_probe['diff'] = diff_sr_threshold"
   ]
  },
  {
   "cell_type": "code",
   "execution_count": null,
   "metadata": {},
   "outputs": [],
   "source": [
    "# Plot the waveform with the over indicator\n",
    "fig = make_subplots(specs=[[{\"secondary_y\": True}]])\n",
    "fig.add_trace(\n",
    "        go.Scatter(x=df_proximity_probe['time'], y=df_proximity_probe['data'], name='Voltage signal'),\n",
    "        secondary_y=False,\n",
    ")\n",
    "fig.add_trace(\n",
    "        go.Scatter(x=df_proximity_probe['time'], y=df_proximity_probe['over?'], name='Over threshold?'),\n",
    "        secondary_y=True,\n",
    ")\n",
    "fig.add_trace(\n",
    "        go.Scatter(x=df_proximity_probe['time'], y=df_proximity_probe['diff'], name='Diff'),\n",
    "        secondary_y=True,\n",
    ")\n",
    "fig.update_layout(\n",
    "    title=\"Voltage signal with threshold over indicator\",\n",
    "    xaxis_title=\"Time (s)\",\n",
    "    yaxis_title=\"Voltage (V)\",\n",
    ")\n",
    "fig.show()\n",
    "\n"
   ]
  },
  {
   "cell_type": "markdown",
   "metadata": {},
   "source": [
    "## Sequential implementation"
   ]
  },
  {
   "cell_type": "code",
   "execution_count": null,
   "metadata": {},
   "outputs": [],
   "source": [
    "# Import the libraries for the sequential search\n",
    "from numba import njit\n",
    "from bladesight import Datasets\n",
    "import numpy as np\n",
    "from typing import Optional"
   ]
  },
  {
   "cell_type": "code",
   "execution_count": null,
   "metadata": {},
   "outputs": [],
   "source": [
    "@njit\n",
    "def seq_simple_threshold_crossing(\n",
    "    arr_t : np.ndarray,\n",
    "    arr_s : np.ndarray,\n",
    "    threshold : float,\n",
    "    n_est : Optional[float] = None,\n",
    "    trigger_on_rising_edge : bool = True\n",
    ") -> np.ndarray:\n",
    "    \"\"\" A simple sequential threshold crossing algorithm.\n",
    "\n",
    "    Args:\n",
    "        arr_t (np.ndarray): The array containing the time values.\n",
    "        arr_s (np.ndarray): The array containing the signal voltage values \n",
    "            corresponding to the time values.\n",
    "        threshold (float): The threshold value.\n",
    "        n_est (float, optional): The estimated number of ToAs in this signal. Defaults to None.\n",
    "            This number is used to pre-allocate the array containing the ToAs. If this number is\n",
    "            not provided, the array will be pre-allocated as the same dimension as arr_t and arr_s.\n",
    "        trigger_on_rising_edge (bool, optional): Whether to trigger ToAs on the rising or falling \n",
    "            edge. Defaults to True. If True, the ToA is triggered on the rising edge.\n",
    "    \n",
    "    Returns:\n",
    "        np.ndarray: An array containing the ToAs.\n",
    "    \"\"\"\n",
    "    \n",
    "    # Pre-allocate the array containing the ToAs\n",
    "    if n_est is None:\n",
    "        arr_toa = -1 * np.ones(arr_t.shape)\n",
    "    else:\n",
    "        arr_toa = -1 * np.ones(n_est)\n",
    "\n",
    "    # Initialise the index of the ToA array\n",
    "    i_toa = 0\n",
    "\n",
    "    # Initialise the previous sample value\n",
    "    prev_sample = arr_s[0]\n",
    "\n",
    "    # Loop through all the samples\n",
    "    for i_sample in range(1, arr_s.shape[0]):\n",
    "\n",
    "        # Get the current sample value\n",
    "        curr_sample = arr_s[i_sample]\n",
    "\n",
    "        # Check if the threshold is crossed\n",
    "        if trigger_on_rising_edge:\n",
    "            if (prev_sample < threshold) and (curr_sample >= threshold):\n",
    "                arr_toa[i_toa] = arr_t[i_sample]\n",
    "                i_toa += 1\n",
    "        else:\n",
    "            if (prev_sample > threshold) and (curr_sample <= threshold):\n",
    "                arr_toa[i_toa] = arr_t[i_sample]\n",
    "                i_toa += 1\n",
    "\n",
    "        # Update the previous sample value\n",
    "        prev_sample = curr_sample\n",
    "\n",
    "    # Return the array containing the ToAs\n",
    "    return arr_toa[:i_toa]\n"
   ]
  },
  {
   "cell_type": "code",
   "execution_count": null,
   "metadata": {},
   "outputs": [],
   "source": [
    "toas = seq_simple_threshold_crossing(df_proximity_probe['time'].values, df_proximity_probe['data'].values, 0.4)\n",
    "print(\"THE TOAs ARE:\")\n",
    "print(toas)"
   ]
  },
  {
   "cell_type": "markdown",
   "metadata": {},
   "source": [
    "### Interpolate voltage"
   ]
  },
  {
   "cell_type": "code",
   "execution_count": null,
   "metadata": {},
   "outputs": [],
   "source": [
    "@njit\n",
    "def seq_threshold_crossing_interp(\n",
    "    arr_t : np.ndarray,\n",
    "    arr_s : np.ndarray,\n",
    "    threshold : float,\n",
    "    n_est : Optional[float] = None,\n",
    "    trigger_on_rising_edge : bool = True\n",
    ") -> np.ndarray:\n",
    "    \"\"\" A sequential threshold crossing algorithm that interpolates\n",
    "        the ToA between the two samples where the signal crosses \n",
    "        the threshold.\n",
    "\n",
    "    Args:\n",
    "        arr_t (np.ndarray): The array containing the time values.\n",
    "        arr_s (np.ndarray): The array containing the signal voltage values \n",
    "            corresponding to the time values.\n",
    "        threshold (float): The threshold value.\n",
    "        n_est (float, optional): The estimated number of ToAs in this signal. Defaults to None.\n",
    "            This number is used to pre-allocate the array containing the ToAs. If this number is\n",
    "            not provided, the array will be pre-allocated as the same dimension as arr_t and arr_s.\n",
    "        trigger_on_rising_edge (bool, optional): Whether to trigger ToAs on the rising or falling \n",
    "            edge. Defaults to True. If True, the ToA is triggered on the rising edge.\n",
    "    \n",
    "    Returns:\n",
    "        np.ndarray: An array containing the ToAs.\n",
    "    \"\"\"\n",
    "        \n",
    "    # Pre-allocate the array containing the ToAs\n",
    "    if n_est is None:\n",
    "        arr_toa = -1 * np.ones(arr_t.shape)\n",
    "    else:\n",
    "        arr_toa = -1 * np.ones(n_est)\n",
    "\n",
    "    # Initialise the index of the ToA array\n",
    "    i_toa = 0\n",
    "\n",
    "    # Initialise the previous sample value\n",
    "    prev_sample = arr_s[0]\n",
    "\n",
    "    # Loop through all the samples\n",
    "    for i_sample in range(1, arr_s.shape[0]):\n",
    "\n",
    "        # Get the current sample value\n",
    "        curr_sample = arr_s[i_sample]\n",
    "\n",
    "        # Check if the threshold is crossed\n",
    "        if trigger_on_rising_edge:\n",
    "            if (prev_sample < threshold) and (curr_sample >= threshold):\n",
    "                # Interpolate the ToA\n",
    "                arr_toa[i_toa] = (\n",
    "                    arr_t[i_sample - 1] \n",
    "                    + (arr_t[i_sample] - arr_t[i_sample - 1]) \n",
    "                    * (threshold - prev_sample) \n",
    "                    / (curr_sample - prev_sample)\n",
    "                )\n",
    "                i_toa += 1\n",
    "        else:\n",
    "            if (prev_sample > threshold) and (curr_sample <= threshold):\n",
    "                # Interpolate the ToA\n",
    "                arr_toa[i_toa] = (\n",
    "                    arr_t[i_sample - 1] \n",
    "                    + (arr_t[i_sample] - arr_t[i_sample - 1]) \n",
    "                    * (threshold - prev_sample) \n",
    "                    / (curr_sample - prev_sample)\n",
    "                )\n",
    "                i_toa += 1\n",
    "\n",
    "        # Update the previous sample value\n",
    "        prev_sample = curr_sample\n",
    "\n",
    "    # Return the array containing the ToAs\n",
    "    return arr_toa[:i_toa]"
   ]
  },
  {
   "cell_type": "code",
   "execution_count": null,
   "metadata": {},
   "outputs": [],
   "source": [
    "toas = seq_threshold_crossing_interp(df_proximity_probe['time'].values, df_proximity_probe['data'].values, 0.4)\n",
    "print(\"THE TOAs ARE:\")\n",
    "print(toas)"
   ]
  },
  {
   "cell_type": "markdown",
   "metadata": {},
   "source": [
    "### Too much noise present"
   ]
  },
  {
   "cell_type": "code",
   "execution_count": null,
   "metadata": {},
   "outputs": [],
   "source": [
    "df_proximity_probe_noisy = ds_ch2[\"table/three_generated_pulses_noisy\"]\n",
    "toas_simple = seq_threshold_crossing_interp(df_proximity_probe_noisy['time'].values, df_proximity_probe_noisy['data'].values, 0.4)\n",
    "print(\"THE TOAs ARE:\")\n",
    "print(toas_simple)"
   ]
  },
  {
   "cell_type": "markdown",
   "metadata": {},
   "source": [
    "### Include hysteresis"
   ]
  },
  {
   "cell_type": "code",
   "execution_count": null,
   "metadata": {},
   "outputs": [],
   "source": [
    "@njit\n",
    "def seq_threshold_crossing_hysteresis_pos(\n",
    "    arr_t : np.ndarray,\n",
    "    arr_s : np.ndarray,\n",
    "    threshold : float,\n",
    "    hysteresis_height : float,\n",
    "    n_est : Optional[float] = None,\n",
    ") -> np.ndarray:\n",
    "    \"\"\" A sequential threshold crossing algorithm that interpolates\n",
    "        the ToA between the two samples where the signal crosses \n",
    "        the threshold.\n",
    "\n",
    "    Args:\n",
    "        arr_t (np.ndarray): The array containing the time values.\n",
    "        arr_s (np.ndarray): The array containing the signal voltage values \n",
    "            corresponding to the time values.\n",
    "        threshold (float): The threshold value.\n",
    "        hysteresis_height (float): The height of the hysteresis, in the same\n",
    "            units as the signal.\n",
    "        n_est (float, optional): The estimated number of ToAs in this signal. Defaults to None.\n",
    "            This number is used to pre-allocate the array containing the ToAs. If this number is\n",
    "            not provided, the array will be pre-allocated as the same dimension as arr_t and arr_s.\n",
    "    \n",
    "    Returns:\n",
    "        np.ndarray: An array containing the ToAs.\n",
    "    \"\"\"\n",
    "    threshold_lower = threshold - hysteresis_height\n",
    "    trigger_state = True if arr_s[0] > threshold_lower else False\n",
    "\n",
    "    # Pre-allocate the array containing the ToAs\n",
    "    if n_est is None:\n",
    "        arr_toa = -1 * np.ones(arr_t.shape)\n",
    "    else:\n",
    "        arr_toa = -1 * np.ones(n_est)\n",
    "\n",
    "    # Initialise the index of the ToA array\n",
    "    i_toa = 0\n",
    "\n",
    "    # Initialise the previous sample value\n",
    "    prev_sample = arr_s[0]\n",
    "\n",
    "    # Loop through all the samples\n",
    "    for i_sample in range(1, arr_s.shape[0]):\n",
    "        # Get the current sample value\n",
    "        curr_sample = arr_s[i_sample]\n",
    "\n",
    "        # Check if the threshold is crossed\n",
    "        if trigger_state is True:\n",
    "            if curr_sample <= threshold_lower:\n",
    "                trigger_state = False\n",
    "        else:\n",
    "            if curr_sample >= threshold:\n",
    "                trigger_state = True\n",
    "                # Interpolate the ToA\n",
    "                arr_toa[i_toa] = (\n",
    "                    arr_t[i_sample - 1] \n",
    "                    + (arr_t[i_sample] - arr_t[i_sample - 1]) \n",
    "                    * (threshold - prev_sample) \n",
    "                    / (curr_sample - prev_sample)\n",
    "                )\n",
    "                i_toa += 1\n",
    "\n",
    "        # Update the previous sample value\n",
    "        prev_sample = curr_sample\n",
    "\n",
    "    # Return the array containing the ToAs\n",
    "    return arr_toa[:i_toa]\n"
   ]
  },
  {
   "cell_type": "code",
   "execution_count": null,
   "metadata": {},
   "outputs": [],
   "source": [
    "toas = seq_threshold_crossing_hysteresis_pos(df_proximity_probe_noisy['time'].values, df_proximity_probe_noisy['data'].values, 0.4, 0.2)\n",
    "print(\"THE TOAs ARE:\")\n",
    "print(toas)"
   ]
  },
  {
   "cell_type": "code",
   "execution_count": null,
   "metadata": {},
   "outputs": [],
   "source": [
    "# Load a real signal\n",
    "df_alum_blisk = ds_ch2['table/aluminium_blisk_1200_rpm']\n",
    "df_alum_blisk"
   ]
  },
  {
   "cell_type": "code",
   "execution_count": null,
   "metadata": {},
   "outputs": [],
   "source": [
    "# Create a time array. The signal was acquired at a rate of 2e6\n",
    "t_arr = np.arange(df_alum_blisk.shape[0]) * 1/(2e6)"
   ]
  },
  {
   "cell_type": "code",
   "execution_count": null,
   "metadata": {},
   "outputs": [],
   "source": [
    "taos = seq_threshold_crossing_hysteresis_pos(\n",
    "    t_arr,\n",
    "    df_alum_blisk['volt'].values,\n",
    "    -5.5, # Threshold value. The signals are negative\n",
    "    0.2,# Hysteresis width\n",
    "    n_est=int(5*1200/60*10*2)\n",
    ")"
   ]
  },
  {
   "cell_type": "code",
   "execution_count": null,
   "metadata": {},
   "outputs": [],
   "source": [
    "tut_02_dataset = Datasets[\"data/intro_to_btt/intro_to_btt_ch02\"]"
   ]
  },
  {
   "cell_type": "code",
   "execution_count": null,
   "metadata": {},
   "outputs": [],
   "source": [
    "df_proximity_probe = tut_02_dataset['table/aluminium_blisk_1200_rpm']"
   ]
  },
  {
   "cell_type": "markdown",
   "metadata": {},
   "source": [
    "### Vizualize the first 5 extracted ToAs"
   ]
  },
  {
   "cell_type": "code",
   "execution_count": null,
   "metadata": {},
   "outputs": [],
   "source": [
    "fig = go.Figure()\n",
    "i_start = 15000\n",
    "i_end = 120000\n",
    "fig.add_trace(go.Scattergl(x=t_arr[i_start:i_end], y=df_alum_blisk['volt'].values[i_start:i_end]))\n",
    "fig.add_trace(go.Scattergl(x=taos[:5], y=np.ones(5)*-5.5, mode='markers'))\n",
    "fig.show()"
   ]
  },
  {
   "cell_type": "markdown",
   "metadata": {},
   "source": [
    "### Performance of sequential implementation"
   ]
  },
  {
   "cell_type": "code",
   "execution_count": null,
   "metadata": {},
   "outputs": [],
   "source": [
    "%%timeit\n",
    "taos = seq_threshold_crossing_hysteresis_pos(\n",
    "    t_arr,\n",
    "    df_alum_blisk['volt'].values,\n",
    "    -5.5,\n",
    "    0.2,\n",
    "    n_est=int(5*1200/60*10*2)\n",
    ")"
   ]
  },
  {
   "cell_type": "markdown",
   "metadata": {},
   "source": [
    "### Performance of vectorized implementation"
   ]
  },
  {
   "cell_type": "code",
   "execution_count": null,
   "metadata": {},
   "outputs": [],
   "source": [
    "df_alum_blisk[\"time\"] = t_arr"
   ]
  },
  {
   "cell_type": "code",
   "execution_count": null,
   "metadata": {},
   "outputs": [],
   "source": [
    "%%timeit\n",
    "TRIGGER_ON_RISING_EDGE = True\n",
    "THRESHOLD_LEVEL = -5.5 # Volts\n",
    "\n",
    "if TRIGGER_ON_RISING_EDGE:\n",
    "    sr_threshold_over = (df_alum_blisk['volt'] >= THRESHOLD_LEVEL).astype(int)\n",
    "else:\n",
    "    sr_threshold_over = (df_alum_blisk['volt'] <= THRESHOLD_LEVEL).astype(int)\n",
    "\n",
    "diff_sr_threshold = sr_threshold_over.diff()\n",
    "\n",
    "diff_sr_threshold = diff_sr_threshold.bfill()\n",
    "\n",
    "sr_threshold_change = diff_sr_threshold > 0\n",
    "\n",
    "sr_toas = df_alum_blisk['time'][sr_threshold_change]"
   ]
  },
  {
   "cell_type": "code",
   "execution_count": null,
   "metadata": {},
   "outputs": [],
   "source": [
    "print(sr_toas)"
   ]
  }
 ],
 "metadata": {
  "kernelspec": {
   "display_name": "bladesight-worksheets-fcjAY1g1-py3.11",
   "language": "python",
   "name": "python3"
  },
  "language_info": {
   "codemirror_mode": {
    "name": "ipython",
    "version": 3
   },
   "file_extension": ".py",
   "mimetype": "text/x-python",
   "name": "python",
   "nbconvert_exporter": "python",
   "pygments_lexer": "ipython3",
   "version": "3.11.0"
  },
  "orig_nbformat": 4
 },
 "nbformat": 4,
 "nbformat_minor": 2
}
