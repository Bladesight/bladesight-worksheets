{
 "cells": [
  {
   "cell_type": "markdown",
   "metadata": {},
   "source": [
    "![alt text for screen readers](https://intro-to-btt-using-python-assets.s3.amazonaws.com/bladesight_logo_horizontal_ORIGINAL.jpg).\n",
    "## Chapter 3: Angle of Arrival "
   ]
  },
  {
   "cell_type": "markdown",
   "metadata": {},
   "source": [
    "## Dependencies"
   ]
  },
  {
   "cell_type": "code",
   "execution_count": null,
   "metadata": {},
   "outputs": [],
   "source": [
    "# Run this cell if you have not installed the `bladesight` package yet\n",
    "%pip install bladesight\n",
    "## NBNBNB! You may need to restart the kernel after installing the package! If you \n",
    "# installed it through the Kernel, you can skip this cell."
   ]
  },
  {
   "cell_type": "code",
   "execution_count": null,
   "metadata": {},
   "outputs": [],
   "source": [
    "# If plotly is not installed\n",
    "%pip install plotly\n",
    "## NBNBNB! You may need to restart the kernel after installing the package! If you \n",
    "# installed it through the Kernel, you can skip this cell."
   ]
  },
  {
   "cell_type": "code",
   "execution_count": null,
   "metadata": {},
   "outputs": [],
   "source": [
    "# If Numba is not installed\n",
    "%pip install numba\n",
    "## NBNBNB! You may need to restart the kernel after installing the package! If you \n",
    "# installed it through the Kernel, you can skip this cell."
   ]
  },
  {
   "cell_type": "markdown",
   "metadata": {},
   "source": [
    "## Imports"
   ]
  },
  {
   "cell_type": "code",
   "execution_count": null,
   "metadata": {},
   "outputs": [],
   "source": [
    "from bladesight import Datasets\n",
    "from plotly.subplots import make_subplots\n",
    "import plotly.graph_objects as go\n",
    "from numba import njit\n",
    "import pandas as pd"
   ]
  },
  {
   "cell_type": "code",
   "execution_count": null,
   "metadata": {},
   "outputs": [],
   "source": [
    "# Load the dataset\n",
    "dataset = Datasets[\"data/intro_to_btt/intro_to_btt_ch03\"]"
   ]
  },
  {
   "cell_type": "code",
   "execution_count": null,
   "metadata": {},
   "outputs": [],
   "source": [
    "## Get the OPR zero-crossing table\n",
    "df_opr_zero_crossings = dataset['table/du_toit_2017_test_1_opr_zero_crossings']\n",
    "df_opr_zero_crossings"
   ]
  },
  {
   "cell_type": "markdown",
   "metadata": {},
   "source": [
    "## Calculate and plot the shaft speed"
   ]
  },
  {
   "cell_type": "code",
   "execution_count": null,
   "metadata": {},
   "outputs": [],
   "source": [
    "df_opr_zero_crossings[\"period\"] = df_opr_zero_crossings[\"time\"].diff().bfill()\n",
    "df_opr_zero_crossings[\"shaft_speed\"] = 1 / df_opr_zero_crossings[\"period\"] * 60\n",
    "fig = go.Figure()\n",
    "\n",
    "fig.add_trace(\n",
    "    go.Scatter(\n",
    "        x=df_opr_zero_crossings[\"time\"],\n",
    "        y=df_opr_zero_crossings[\"shaft_speed\"],\n",
    "        mode=\"markers\",\n",
    "        name=\"Shaft speed\",\n",
    "    )\n",
    ")\n",
    "\n",
    "fig.update_layout(\n",
    "    title=\"Shaft speed\",\n",
    "    xaxis_title=\"Time [s]\",\n",
    "    yaxis_title=\"Shaft speed [rpm]\",\n",
    "    legend_title=\"\",\n",
    ")"
   ]
  },
  {
   "cell_type": "markdown",
   "metadata": {},
   "source": [
    "## Algorithm"
   ]
  },
  {
   "cell_type": "code",
   "execution_count": null,
   "metadata": {},
   "outputs": [],
   "source": [
    "from numba import njit\n",
    "import numpy as np\n",
    "\n",
    "@njit\n",
    "def calculate_aoas(\n",
    "    arr_opr_zero_crossing : np.ndarray, \n",
    "    arr_probe_toas : np.ndarray\n",
    "):\n",
    "    \"\"\"\n",
    "    This function calculates the angle of arrival of \n",
    "    each ToA value relative to the revolution in \n",
    "    which it occurs.\n",
    "\n",
    "    Args:\n",
    "        arr_opr_zero_crossing (np.array): An array of \n",
    "            OPR zero-crossing times. \n",
    "        arr_probe_toas (np.array): An array of \n",
    "            ToA values.\n",
    "\n",
    "    Returns:\n",
    "        np.array: A matrix of AoA values. Each row in the \n",
    "            matrix corresponds to a ToA value. The columns \n",
    "            are:\n",
    "            0: The revolution number\n",
    "            1: The zero crossing time at the start of the revolution\n",
    "            2: The zero crossing time at the end of the revolution\n",
    "            3: The angular velocity of the revolution\n",
    "            4: The ToA\n",
    "            5: The AoA of the ToA value\n",
    "    \"\"\"\n",
    "    num_toas = len(arr_probe_toas)\n",
    "    AoA_matrix = np.zeros((num_toas, 6))\n",
    "\n",
    "    AoA_matrix[:, 0] = -1\n",
    "\n",
    "    current_zero_crossing_start = arr_opr_zero_crossing[0]\n",
    "    current_zero_crossing_end = arr_opr_zero_crossing[1]\n",
    "    current_n = 0\n",
    "\n",
    "    for i, toa in enumerate(arr_probe_toas):\n",
    "\n",
    "        while toa > current_zero_crossing_end:\n",
    "            current_n += 1\n",
    "            if current_n >= (len(arr_opr_zero_crossing) - 1):\n",
    "                break\n",
    "            current_zero_crossing_start = arr_opr_zero_crossing[current_n]\n",
    "            current_zero_crossing_end = arr_opr_zero_crossing[current_n + 1]\n",
    "\n",
    "        if current_n >= (len(arr_opr_zero_crossing) - 1):\n",
    "            break\n",
    "\n",
    "        if toa > current_zero_crossing_start:\n",
    "            AoA_matrix[i, 0] = current_n\n",
    "            AoA_matrix[i, 1] = current_zero_crossing_start\n",
    "            AoA_matrix[i, 2] = current_zero_crossing_end\n",
    "            Omega = 2 * np.pi / (\n",
    "                current_zero_crossing_end \n",
    "                - current_zero_crossing_start\n",
    "            )\n",
    "            AoA_matrix[i, 3] = Omega\n",
    "            AoA_matrix[i, 4] = toa\n",
    "            AoA_matrix[i, 5] = Omega * (\n",
    "                toa \n",
    "                - current_zero_crossing_start\n",
    "            )\n",
    "\n",
    "    return AoA_matrix"
   ]
  },
  {
   "cell_type": "markdown",
   "metadata": {},
   "source": [
    "## Example usage"
   ]
  },
  {
   "cell_type": "code",
   "execution_count": null,
   "metadata": {},
   "outputs": [],
   "source": [
    "# Get the zero-crossing times and the first proximity probe's ToA values\n",
    "dataset = Datasets[\"data/intro_to_btt/intro_to_btt_ch03\"]\n",
    "df_opr_zero_crossings = dataset['table/du_toit_2017_test_1_opr_zero_crossings']\n",
    "df_probe_toas = dataset['table/du_toit_2017_test_1_prox_1_toas']\n",
    "AoA_matrix = calculate_aoas(\n",
    "    df_opr_zero_crossings[\"time\"].to_numpy(),\n",
    "    df_probe_toas[\"time\"].to_numpy()\n",
    ")\n",
    "df_AoA = pd.DataFrame(\n",
    "    AoA_matrix, \n",
    "    columns=[\n",
    "        \"n\",\n",
    "        \"n_start_time\",\n",
    "        \"n_end_time\",\n",
    "        \"Omega\",\n",
    "        \"ToA\",\n",
    "        \"AoA\"\n",
    "    ]\n",
    ")\n",
    "df_AoA.head(10)"
   ]
  },
  {
   "cell_type": "markdown",
   "metadata": {},
   "source": [
    "## Drop the ToAs that could not be allocated"
   ]
  },
  {
   "cell_type": "code",
   "execution_count": null,
   "metadata": {},
   "outputs": [],
   "source": [
    "df_AoA = df_AoA[df_AoA[\"n\"] != -1]\n",
    "df_AoA.reset_index(inplace=True, drop=True)"
   ]
  },
  {
   "cell_type": "markdown",
   "metadata": {},
   "source": [
    "## Plot results"
   ]
  },
  {
   "cell_type": "code",
   "execution_count": null,
   "metadata": {},
   "outputs": [],
   "source": [
    "# Plot the AoA values\n",
    "fig = make_subplots(specs=[[{\"secondary_y\": True}]])\n",
    "# Just plot the first blade, i.e. take every 5th value\n",
    "df_aoa_1 = df_AoA.iloc[::5]\n",
    "fig.add_trace(go.Scattergl(x=df_aoa_1[\"ToA\"], y=df_aoa_1[\"AoA\"], name=\"AoA\"), secondary_y=False)\n",
    "fig.add_trace(go.Scattergl(x=df_aoa_1[\"n_start_time\"], y=df_aoa_1[\"Omega\"]*60/(2*np.pi), name=\"Shaft Speed\"), secondary_y=True)\n",
    "\n",
    "fig.update_layout(\n",
    "    title=\"AoA of blade 1 arriving at probe 1\",\n",
    "    xaxis_title=\"Time [s]\",\n",
    "    yaxis_title=\"AoA [rad]\",\n",
    "    legend_title=\"\",\n",
    "    yaxis2_title=\"Shaft speed [RPM]\",\n",
    ")\n",
    "\n",
    "\n",
    "fig.show()"
   ]
  }
 ],
 "metadata": {
  "kernelspec": {
   "display_name": "bladesight-worksheets-fcjAY1g1-py3.11",
   "language": "python",
   "name": "python3"
  },
  "language_info": {
   "codemirror_mode": {
    "name": "ipython",
    "version": 3
   },
   "file_extension": ".py",
   "mimetype": "text/x-python",
   "name": "python",
   "nbconvert_exporter": "python",
   "pygments_lexer": "ipython3",
   "version": "3.11.0"
  },
  "orig_nbformat": 4
 },
 "nbformat": 4,
 "nbformat_minor": 2
}
