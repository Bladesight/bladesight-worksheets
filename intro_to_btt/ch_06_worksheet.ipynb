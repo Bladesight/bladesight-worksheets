{
 "cells": [
  {
   "cell_type": "markdown",
   "metadata": {},
   "source": [
    "![alt text for screen readers](https://intro-to-btt-using-python-assets.s3.amazonaws.com/bladesight_logo_horizontal_ORIGINAL.jpg).\n",
    "# Chapter 6: Data Zeroing and Filtering"
   ]
  },
  {
   "cell_type": "code",
   "execution_count": null,
   "metadata": {},
   "outputs": [],
   "source": [
    "# Run this cell if you have not installed the `bladesight` package yet\n",
    "%pip install bladesight\n",
    "## NBNBNB! You may need to restart the kernel after installing the package! If you \n",
    "# installed it through the Kernel, you can skip this cell."
   ]
  },
  {
   "cell_type": "code",
   "execution_count": null,
   "metadata": {},
   "outputs": [],
   "source": [
    "# If plotly is not installed\n",
    "%pip install plotly\n",
    "## NBNBNB! You may need to restart the kernel after installing the package! If you \n",
    "# installed it through the Kernel, you can skip this cell."
   ]
  },
  {
   "cell_type": "code",
   "execution_count": null,
   "metadata": {},
   "outputs": [],
   "source": [
    "# If Numba is not installed\n",
    "%pip install numba\n",
    "## NBNBNB! You may need to restart the kernel after installing the package! If you \n",
    "# installed it through the Kernel, you can skip this cell."
   ]
  },
  {
   "cell_type": "code",
   "execution_count": null,
   "metadata": {},
   "outputs": [],
   "source": [
    "# If scipy is not installed\n",
    "%pip install scipy\n",
    "## NBNBNB! You may need to restart the kernel after installing the package! If you \n",
    "# installed it through the Kernel, you can skip this cell."
   ]
  },
  {
   "cell_type": "code",
   "execution_count": null,
   "metadata": {},
   "outputs": [],
   "source": [
    "from bladesight import Datasets\n",
    "from bladesight.btt import get_rotor_blade_AoAs\n",
    "import numpy as np\n",
    "import plotly.graph_objects as go\n",
    "from plotly.subplots import make_subplots\n",
    "from scipy.signal import detrend\n"
   ]
  },
  {
   "cell_type": "code",
   "execution_count": null,
   "metadata": {},
   "outputs": [],
   "source": [
    "ds = Datasets[\"data/intro_to_btt/intro_to_btt_ch06\"]\n",
    "df_opr_zero_crossings = ds['table/opr_zero_crossings']\n",
    "df_prox_1 = ds['table/prox_1_toas']\n",
    "df_prox_2 = ds['table/prox_2_toas']\n",
    "df_prox_3 = ds['table/prox_3_toas']\n"
   ]
  },
  {
   "cell_type": "code",
   "execution_count": null,
   "metadata": {},
   "outputs": [],
   "source": [
    "blade_AoAs = get_rotor_blade_AoAs(\n",
    "    df_opr_zero_crossings, \n",
    "    [\n",
    "        df_prox_1, \n",
    "        df_prox_2,\n",
    "        df_prox_3\n",
    "    ],\n",
    "    probe_spacings=np.deg2rad([10,20]),\n",
    "    B=5\n",
    ")"
   ]
  },
  {
   "cell_type": "markdown",
   "metadata": {},
   "source": [
    "### Copy the first blade's df to use for the remainder of the worksheet"
   ]
  },
  {
   "cell_type": "code",
   "execution_count": null,
   "metadata": {},
   "outputs": [],
   "source": [
    "df = blade_AoAs[0].copy(deep=True)"
   ]
  },
  {
   "cell_type": "markdown",
   "metadata": {},
   "source": [
    "### Raw AoAs"
   ]
  },
  {
   "cell_type": "code",
   "execution_count": null,
   "metadata": {},
   "outputs": [],
   "source": [
    "fig = make_subplots(specs=[[{\"secondary_y\": True}]])\n",
    "\n",
    "for prox_no in range(1, 4):\n",
    "    fig.add_trace(go.Scattergl(\n",
    "        x=df['n'],\n",
    "        y=df[f'AoA_p{prox_no}'],\n",
    "        mode='markers+lines',\n",
    "        name=f'Prox {prox_no}'\n",
    "    ), secondary_y=False)\n",
    "\n",
    "fig.add_trace(go.Scattergl(\n",
    "    x=df['n'],\n",
    "    y=df['Omega']*60/(2*np.pi),\n",
    "    mode='markers+lines',\n",
    "    name='Shaft speed'\n",
    "), secondary_y=True)\n",
    "fig.update_layout(\n",
    "    title='Blade AoA',\n",
    "    xaxis_title='Shaft revolution',\n",
    "    yaxis_title='AoA [rad]',\n",
    "    legend_title='Probe'\n",
    ")\n",
    "fig.show()"
   ]
  },
  {
   "cell_type": "markdown",
   "metadata": {},
   "source": [
    "## Normalization and scaling"
   ]
  },
  {
   "cell_type": "code",
   "execution_count": null,
   "metadata": {},
   "outputs": [],
   "source": [
    "df[\"AoA_norm_p1\"] = df[f\"AoA_p1\"].mean() - df[f\"AoA_p1\"] \n",
    "df[\"AoA_norm_p2\"] = df[f\"AoA_p2\"].mean() - df[f\"AoA_p2\"]\n",
    "df[\"AoA_norm_p3\"] = df[f\"AoA_p3\"].mean() - df[f\"AoA_p3\"]\n"
   ]
  },
  {
   "cell_type": "code",
   "execution_count": null,
   "metadata": {},
   "outputs": [],
   "source": [
    "R = 164000 \n",
    "df[\"x_p1\"] = R * df[\"AoA_norm_p1\"]\n",
    "df[\"x_p2\"] = R * df[\"AoA_norm_p2\"]\n",
    "df[\"x_p3\"] = R * df[\"AoA_norm_p3\"]"
   ]
  },
  {
   "cell_type": "code",
   "execution_count": null,
   "metadata": {},
   "outputs": [],
   "source": [
    "fig = make_subplots(specs=[[{\"secondary_y\": True}]])\n",
    "for prox_no in range(1, 4):\n",
    "    fig.add_trace(go.Scattergl(\n",
    "        x=df['n'],\n",
    "        y=df[f'x_p{prox_no}'],\n",
    "        mode='markers+lines',\n",
    "        name=f'Prox {prox_no}'\n",
    "    ), secondary_y=False)\n",
    "\n",
    "fig.add_trace(go.Scattergl(\n",
    "    x=df['n'],\n",
    "    y=df['Omega']*60/(2*np.pi),\n",
    "    mode='markers+lines',\n",
    "    name='Shaft speed'\n",
    "), secondary_y=True)\n",
    "\n",
    "fig.update_layout(\n",
    "    title='Tip deflections',\n",
    "    xaxis_title='Shaft revolution',\n",
    "    yaxis_title='x [μm]',\n",
    "    legend_title='Probe'\n",
    ")\n",
    "fig.show()"
   ]
  },
  {
   "cell_type": "code",
   "execution_count": null,
   "metadata": {},
   "outputs": [],
   "source": [
    "bps = np.array([217, 1128, 1436, 1784, 2670])\n",
    "df[f\"x_p1\"] = detrend(\n",
    "    df[\"x_p1\"],\n",
    "    bp=bps\n",
    ")\n",
    "df[f\"x_p2\"] = detrend(\n",
    "    df[\"x_p2\"],\n",
    "    bp=bps\n",
    ")\n",
    "df[f\"x_p3\"] = detrend(\n",
    "    df[\"x_p3\"],\n",
    "    bp=bps\n",
    ")\n"
   ]
  },
  {
   "cell_type": "code",
   "execution_count": null,
   "metadata": {},
   "outputs": [],
   "source": [
    "fig = make_subplots(specs=[[{\"secondary_y\": True}]])\n",
    "for prox_no in range(1, 4):\n",
    "    fig.add_trace(go.Scattergl(\n",
    "        x=df['n'],\n",
    "        y=df[f'x_p{prox_no}'],\n",
    "        mode='markers+lines',\n",
    "        name=f'Prox {prox_no}'\n",
    "    ), secondary_y=False)\n",
    "\n",
    "fig.add_trace(go.Scattergl(\n",
    "    x=df['n'],\n",
    "    y=df['Omega']*60/(2*np.pi),\n",
    "    mode='markers+lines',\n",
    "    name='Shaft speed'\n",
    "), secondary_y=True)\n",
    "\n",
    "fig.update_layout(\n",
    "    title='Detrended tip deflections',\n",
    "    xaxis_title='Shaft revolution',\n",
    "    yaxis_title='x [μm]',\n",
    "    legend_title='Probe'\n",
    ")\n",
    "fig.show()"
   ]
  },
  {
   "cell_type": "markdown",
   "metadata": {},
   "source": [
    "### Order domain polynomial detrending"
   ]
  },
  {
   "cell_type": "code",
   "execution_count": null,
   "metadata": {},
   "outputs": [],
   "source": [
    "df[\"x_p1\"] = R * df[\"AoA_norm_p1\"]\n",
    "df[\"x_p2\"] = R * df[\"AoA_norm_p2\"]\n",
    "df[\"x_p3\"] = R * df[\"AoA_norm_p3\"]\n",
    "\n",
    "poly_order = 11 \n",
    "p1 = np.polyfit(df['Omega'], df['x_p1'], poly_order)\n",
    "p2 = np.polyfit(df['Omega'], df['x_p2'], poly_order)\n",
    "p3 = np.polyfit(df['Omega'], df['x_p3'], poly_order)\n",
    "\n",
    "df[\"x_p1\"] = df[\"x_p1\"] - np.polyval(p1, df['Omega'])\n",
    "df[\"x_p2\"] = df[\"x_p2\"] - np.polyval(p2, df['Omega'])\n",
    "df[\"x_p3\"] = df[\"x_p3\"] - np.polyval(p3, df['Omega'])\n"
   ]
  },
  {
   "cell_type": "code",
   "execution_count": null,
   "metadata": {},
   "outputs": [],
   "source": [
    "fig = make_subplots(specs=[[{\"secondary_y\": True}]])\n",
    "for prox_no in range(1, 4):\n",
    "    fig.add_trace(go.Scattergl(\n",
    "        x=df['n'],\n",
    "        y=df[f'x_p{prox_no}'],\n",
    "        mode='markers+lines',\n",
    "        name=f'Prox {prox_no}'\n",
    "    ), secondary_y=False)\n",
    "\n",
    "fig.add_trace(go.Scattergl(\n",
    "    x=df['n'],\n",
    "    y=df['Omega']*60/(2*np.pi),\n",
    "    mode='markers+lines',\n",
    "    name='Shaft speed'\n",
    "), secondary_y=True)\n",
    "\n",
    "fig.update_layout(\n",
    "    title='Detrended tip deflections',\n",
    "    xaxis_title='Shaft revolution',\n",
    "    yaxis_title='x [μm]',\n",
    "    legend_title='Probe'\n",
    ")\n",
    "fig.show()"
   ]
  },
  {
   "cell_type": "markdown",
   "metadata": {},
   "source": [
    "## Filtering"
   ]
  },
  {
   "cell_type": "markdown",
   "metadata": {},
   "source": [
    "### Butterworth filter\n"
   ]
  },
  {
   "cell_type": "code",
   "execution_count": null,
   "metadata": {},
   "outputs": [],
   "source": [
    "from scipy.signal import butter, filtfilt\n",
    "\n",
    "butterworth_filter = butter(N=2, Wn=0.3) \n",
    "\n",
    "df[\"x_p1_filt_butter\"] = filtfilt(*butterworth_filter, df[\"x_p1\"]) \n",
    "df[\"x_p2_filt_butter\"] = filtfilt(*butterworth_filter, df[\"x_p2\"])\n",
    "df[\"x_p3_filt_butter\"] = filtfilt(*butterworth_filter, df[\"x_p3\"])\n"
   ]
  },
  {
   "cell_type": "markdown",
   "metadata": {},
   "source": [
    "### Gaussian filter"
   ]
  },
  {
   "cell_type": "code",
   "execution_count": null,
   "metadata": {},
   "outputs": [],
   "source": [
    "from scipy.ndimage import gaussian_filter1d\n",
    "\n",
    "df[\"x_p1_filt_gaussian\"] = gaussian_filter1d(df[\"x_p1\"], 1) \n",
    "df[\"x_p2_filt_gaussian\"] = gaussian_filter1d(df[\"x_p2\"], 1)\n",
    "df[\"x_p3_filt_gaussian\"] = gaussian_filter1d(df[\"x_p3\"], 1)\n"
   ]
  },
  {
   "cell_type": "code",
   "execution_count": null,
   "metadata": {},
   "outputs": [],
   "source": [
    "fig = make_subplots(specs=[[{\"secondary_y\": True}]])\n",
    "fig.add_trace(go.Scattergl(\n",
    "    x=df['n'],\n",
    "    y=df['x_p1'],\n",
    "    mode='markers+lines',\n",
    "    name='Prox 1 unfiltered'\n",
    "), secondary_y=False)\n",
    "fig.add_trace(go.Scattergl(\n",
    "    x=df['n'],\n",
    "    y=df['x_p1_filt_butter'],\n",
    "    mode='markers+lines',\n",
    "    name='Prox 1 filtered (butterworth)'\n",
    "), secondary_y=False)\n",
    "fig.add_trace(go.Scattergl(\n",
    "    x=df['n'],\n",
    "    y=df['x_p1_filt_gaussian'],\n",
    "    mode='markers+lines',\n",
    "    name='Prox 1 filtered (gaussian)'\n",
    "), secondary_y=False)\n",
    "\n",
    "fig.add_trace(go.Scattergl(\n",
    "    x=df['n'],\n",
    "    y=df['Omega']*60/(2*np.pi),\n",
    "    mode='markers+lines',\n",
    "    name='Shaft speed'\n",
    "), secondary_y=True)\n",
    "\n",
    "fig.update_layout(\n",
    "    title='Filtered tip deflections',\n",
    "    xaxis_title='Shaft revolution',\n",
    "    yaxis_title='x [μm]',\n",
    "    legend_title='Filter type'\n",
    ")\n",
    "fig.show()\n"
   ]
  },
  {
   "cell_type": "markdown",
   "metadata": {},
   "source": [
    "## Peak to Peak vibration"
   ]
  },
  {
   "cell_type": "code",
   "execution_count": null,
   "metadata": {},
   "outputs": [],
   "source": [
    "x_matrix = (\n",
    "    df[[\"x_p1_filt_butter\", \"x_p2_filt_butter\", \"x_p3_filt_butter\"]]\n",
    "    .to_numpy()\n",
    ")\n",
    "df[\"pk-pk\"] = x_matrix.max(axis=1) - x_matrix.min(axis=1)\n"
   ]
  },
  {
   "cell_type": "code",
   "execution_count": null,
   "metadata": {},
   "outputs": [],
   "source": [
    "fig = make_subplots(specs=[[{\"secondary_y\": True}]])\n",
    "fig.add_trace(go.Scattergl(\n",
    "    x=df['n'],\n",
    "    y=df['pk-pk'],\n",
    "    mode='markers+lines',\n",
    "    name='Prox 1 unfiltered'\n",
    "), secondary_y=False)\n",
    "\n",
    "fig.add_trace(go.Scattergl(\n",
    "    x=df['n'],\n",
    "    y=df['Omega']*60/(2*np.pi),\n",
    "    mode='markers+lines',\n",
    "    name='Shaft speed'\n",
    "), secondary_y=True)\n",
    "\n",
    "fig.update_layout(\n",
    "    title='Peak-to-peak tip deflections',\n",
    "    xaxis_title='Shaft revolution',\n",
    "    yaxis_title='pk-pk [μm]'\n",
    ")\n",
    "fig.show()\n"
   ]
  },
  {
   "cell_type": "markdown",
   "metadata": {},
   "source": [
    "### Peak to peak vibration vs shaft speed"
   ]
  },
  {
   "cell_type": "code",
   "execution_count": null,
   "metadata": {},
   "outputs": [],
   "source": [
    "fig = go.Figure()\n",
    "\n",
    "fig.add_trace(go.Scattergl(\n",
    "    x=df['Omega']*60/(2*np.pi),\n",
    "    y=df['pk-pk'],\n",
    "    mode='markers',\n",
    "    name='Peak to Peak vibration'\n",
    "))\n",
    "\n",
    "fig.update_layout(\n",
    "    title='Peak-to-peak tip deflections',\n",
    "    xaxis_title='Shaft speed',\n",
    "    yaxis_title='pk-pk [μm]'\n",
    ")\n",
    "fig.show()\n",
    "\n",
    "\n"
   ]
  }
 ],
 "metadata": {
  "kernelspec": {
   "display_name": "bladesight-user-dev--TYyjGa9-py3.11",
   "language": "python",
   "name": "python3"
  },
  "language_info": {
   "codemirror_mode": {
    "name": "ipython",
    "version": 3
   },
   "file_extension": ".py",
   "mimetype": "text/x-python",
   "name": "python",
   "nbconvert_exporter": "python",
   "pygments_lexer": "ipython3",
   "version": "3.11.0"
  }
 },
 "nbformat": 4,
 "nbformat_minor": 2
}
